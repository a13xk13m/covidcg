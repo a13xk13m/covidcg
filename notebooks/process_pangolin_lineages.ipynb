{
 "cells": [
  {
   "cell_type": "code",
   "execution_count": 1,
   "metadata": {
    "ExecuteTime": {
     "end_time": "2020-05-26T08:10:12.953592Z",
     "start_time": "2020-05-26T08:10:12.409014Z"
    }
   },
   "outputs": [],
   "source": [
    "import pandas as pd\n",
    "import numpy as np\n",
    "import re\n",
    "\n",
    "from pathlib import Path\n"
   ]
  },
  {
   "cell_type": "code",
   "execution_count": 2,
   "metadata": {
    "ExecuteTime": {
     "end_time": "2020-05-26T08:10:12.964518Z",
     "start_time": "2020-05-26T08:10:12.957804Z"
    }
   },
   "outputs": [],
   "source": [
    "data_path = Path('../data').resolve()"
   ]
  },
  {
   "cell_type": "markdown",
   "metadata": {},
   "source": [
    "# Extract lineages from pangolin lineages file\n",
    "\n",
    "The pangolin tool takes a while so let's just use their released data, and only run pangolin on the sequences that they missed. Or maybe they missed them for a reason, and we should just ignore them. Either way we have to match it up here for now"
   ]
  },
  {
   "cell_type": "code",
   "execution_count": 6,
   "metadata": {
    "ExecuteTime": {
     "end_time": "2020-05-26T08:11:54.917150Z",
     "start_time": "2020-05-26T08:11:54.905609Z"
    }
   },
   "outputs": [
    {
     "data": {
      "text/plain": [
       "[PosixPath('/Volumes/GoogleDrive/My Drive/covid_data/fasta_processed/gisaid_0101-0131.fasta'),\n",
       " PosixPath('/Volumes/GoogleDrive/My Drive/covid_data/fasta_processed/gisaid_0201-0229.fasta'),\n",
       " PosixPath('/Volumes/GoogleDrive/My Drive/covid_data/fasta_processed/gisaid_0301-0331.fasta'),\n",
       " PosixPath('/Volumes/GoogleDrive/My Drive/covid_data/fasta_processed/gisaid_0401-0407.fasta'),\n",
       " PosixPath('/Volumes/GoogleDrive/My Drive/covid_data/fasta_processed/gisaid_0408-0414.fasta'),\n",
       " PosixPath('/Volumes/GoogleDrive/My Drive/covid_data/fasta_processed/gisaid_0415-0421.fasta'),\n",
       " PosixPath('/Volumes/GoogleDrive/My Drive/covid_data/fasta_processed/gisaid_0422-0430.fasta'),\n",
       " PosixPath('/Volumes/GoogleDrive/My Drive/covid_data/fasta_processed/gisaid_0501-0507.fasta'),\n",
       " PosixPath('/Volumes/GoogleDrive/My Drive/covid_data/fasta_processed/gisaid_0508-0514.fasta'),\n",
       " PosixPath('/Volumes/GoogleDrive/My Drive/covid_data/fasta_processed/gisaid_0515-0519.fasta')]"
      ]
     },
     "execution_count": 6,
     "metadata": {},
     "output_type": "execute_result"
    }
   ],
   "source": [
    "# Get processed fasta files\n",
    "fasta_files = sorted((data_path / 'fasta_processed').glob('*.fasta'))\n",
    "fasta_files"
   ]
  },
  {
   "cell_type": "code",
   "execution_count": 7,
   "metadata": {
    "ExecuteTime": {
     "end_time": "2020-05-26T08:11:55.537031Z",
     "start_time": "2020-05-26T08:11:55.463143Z"
    }
   },
   "outputs": [
    {
     "data": {
      "text/html": [
       "<div>\n",
       "<style scoped>\n",
       "    .dataframe tbody tr th:only-of-type {\n",
       "        vertical-align: middle;\n",
       "    }\n",
       "\n",
       "    .dataframe tbody tr th {\n",
       "        vertical-align: top;\n",
       "    }\n",
       "\n",
       "    .dataframe thead th {\n",
       "        text-align: right;\n",
       "    }\n",
       "</style>\n",
       "<table border=\"1\" class=\"dataframe\">\n",
       "  <thead>\n",
       "    <tr style=\"text-align: right;\">\n",
       "      <th></th>\n",
       "      <th>GISAID ID</th>\n",
       "      <th>name</th>\n",
       "      <th>country</th>\n",
       "      <th>travel history</th>\n",
       "      <th>sample date</th>\n",
       "      <th>epiweek</th>\n",
       "      <th>lineage</th>\n",
       "      <th>representative</th>\n",
       "    </tr>\n",
       "  </thead>\n",
       "  <tbody>\n",
       "    <tr>\n",
       "      <th>0</th>\n",
       "      <td>EPI_ISL_420793</td>\n",
       "      <td>USA/NY_2929/2020</td>\n",
       "      <td>USA</td>\n",
       "      <td>NaN</td>\n",
       "      <td>2020-03-02</td>\n",
       "      <td>10.0</td>\n",
       "      <td>B.1</td>\n",
       "      <td>1</td>\n",
       "    </tr>\n",
       "    <tr>\n",
       "      <th>1</th>\n",
       "      <td>EPI_ISL_417142</td>\n",
       "      <td>USA/WA-S89/2020</td>\n",
       "      <td>USA</td>\n",
       "      <td>NaN</td>\n",
       "      <td>2020-02-29</td>\n",
       "      <td>9.0</td>\n",
       "      <td>A.1</td>\n",
       "      <td>1</td>\n",
       "    </tr>\n",
       "    <tr>\n",
       "      <th>2</th>\n",
       "      <td>EPI_ISL_420792</td>\n",
       "      <td>USA/NH_0008/2020</td>\n",
       "      <td>USA</td>\n",
       "      <td>NaN</td>\n",
       "      <td>2020-03-02</td>\n",
       "      <td>10.0</td>\n",
       "      <td>B.1</td>\n",
       "      <td>1</td>\n",
       "    </tr>\n",
       "    <tr>\n",
       "      <th>3</th>\n",
       "      <td>EPI_ISL_420795</td>\n",
       "      <td>USA/RI_0556/2020</td>\n",
       "      <td>USA</td>\n",
       "      <td>NaN</td>\n",
       "      <td>2020-03-01</td>\n",
       "      <td>10.0</td>\n",
       "      <td>B.1.5</td>\n",
       "      <td>1</td>\n",
       "    </tr>\n",
       "    <tr>\n",
       "      <th>4</th>\n",
       "      <td>EPI_ISL_417140</td>\n",
       "      <td>USA/WA-S87/2020</td>\n",
       "      <td>USA</td>\n",
       "      <td>NaN</td>\n",
       "      <td>2020-03-01</td>\n",
       "      <td>10.0</td>\n",
       "      <td>A.1</td>\n",
       "      <td>1</td>\n",
       "    </tr>\n",
       "    <tr>\n",
       "      <th>...</th>\n",
       "      <td>...</td>\n",
       "      <td>...</td>\n",
       "      <td>...</td>\n",
       "      <td>...</td>\n",
       "      <td>...</td>\n",
       "      <td>...</td>\n",
       "      <td>...</td>\n",
       "      <td>...</td>\n",
       "    </tr>\n",
       "    <tr>\n",
       "      <th>27758</th>\n",
       "      <td>NaN</td>\n",
       "      <td>Scotland/CVR04/2020</td>\n",
       "      <td>UK</td>\n",
       "      <td>NaN</td>\n",
       "      <td>2020-03-04</td>\n",
       "      <td>10.0</td>\n",
       "      <td>B</td>\n",
       "      <td>0</td>\n",
       "    </tr>\n",
       "    <tr>\n",
       "      <th>27759</th>\n",
       "      <td>NaN</td>\n",
       "      <td>Scotland/CVR05/2020</td>\n",
       "      <td>UK</td>\n",
       "      <td>NaN</td>\n",
       "      <td>2020-03-04</td>\n",
       "      <td>10.0</td>\n",
       "      <td>B.1</td>\n",
       "      <td>0</td>\n",
       "    </tr>\n",
       "    <tr>\n",
       "      <th>27760</th>\n",
       "      <td>NaN</td>\n",
       "      <td>Scotland/CVR03/2020</td>\n",
       "      <td>UK</td>\n",
       "      <td>NaN</td>\n",
       "      <td>2020-03-01</td>\n",
       "      <td>10.0</td>\n",
       "      <td>B.1</td>\n",
       "      <td>0</td>\n",
       "    </tr>\n",
       "    <tr>\n",
       "      <th>27761</th>\n",
       "      <td>NaN</td>\n",
       "      <td>Scotland/CVR02/2020</td>\n",
       "      <td>UK</td>\n",
       "      <td>NaN</td>\n",
       "      <td>2020-03-02</td>\n",
       "      <td>10.0</td>\n",
       "      <td>B</td>\n",
       "      <td>0</td>\n",
       "    </tr>\n",
       "    <tr>\n",
       "      <th>27762</th>\n",
       "      <td>NaN</td>\n",
       "      <td>Scotland/CVR01/2020</td>\n",
       "      <td>UK</td>\n",
       "      <td>NaN</td>\n",
       "      <td>2020-02-28</td>\n",
       "      <td>9.0</td>\n",
       "      <td>B.1.1</td>\n",
       "      <td>0</td>\n",
       "    </tr>\n",
       "  </tbody>\n",
       "</table>\n",
       "<p>27763 rows × 8 columns</p>\n",
       "</div>"
      ],
      "text/plain": [
       "            GISAID ID                 name country travel history sample date  \\\n",
       "0      EPI_ISL_420793     USA/NY_2929/2020     USA            NaN  2020-03-02   \n",
       "1      EPI_ISL_417142      USA/WA-S89/2020     USA            NaN  2020-02-29   \n",
       "2      EPI_ISL_420792     USA/NH_0008/2020     USA            NaN  2020-03-02   \n",
       "3      EPI_ISL_420795     USA/RI_0556/2020     USA            NaN  2020-03-01   \n",
       "4      EPI_ISL_417140      USA/WA-S87/2020     USA            NaN  2020-03-01   \n",
       "...               ...                  ...     ...            ...         ...   \n",
       "27758             NaN  Scotland/CVR04/2020      UK            NaN  2020-03-04   \n",
       "27759             NaN  Scotland/CVR05/2020      UK            NaN  2020-03-04   \n",
       "27760             NaN  Scotland/CVR03/2020      UK            NaN  2020-03-01   \n",
       "27761             NaN  Scotland/CVR02/2020      UK            NaN  2020-03-02   \n",
       "27762             NaN  Scotland/CVR01/2020      UK            NaN  2020-02-28   \n",
       "\n",
       "       epiweek lineage  representative  \n",
       "0         10.0     B.1               1  \n",
       "1          9.0     A.1               1  \n",
       "2         10.0     B.1               1  \n",
       "3         10.0   B.1.5               1  \n",
       "4         10.0     A.1               1  \n",
       "...        ...     ...             ...  \n",
       "27758     10.0       B               0  \n",
       "27759     10.0     B.1               0  \n",
       "27760     10.0     B.1               0  \n",
       "27761     10.0       B               0  \n",
       "27762      9.0   B.1.1               0  \n",
       "\n",
       "[27763 rows x 8 columns]"
      ]
     },
     "execution_count": 7,
     "metadata": {},
     "output_type": "execute_result"
    }
   ],
   "source": [
    "# Load lineages metadata\n",
    "lineage_df = pd.read_csv(data_path / 'pangolin_lineages_20200525.csv')\n",
    "lineage_df"
   ]
  },
  {
   "cell_type": "markdown",
   "metadata": {},
   "source": [
    "The lineage dataframe has incomplete GISAID IDs, so we'll have to rely on the name instead"
   ]
  },
  {
   "cell_type": "code",
   "execution_count": 8,
   "metadata": {
    "ExecuteTime": {
     "end_time": "2020-05-26T08:11:56.721637Z",
     "start_time": "2020-05-26T08:11:56.701456Z"
    }
   },
   "outputs": [
    {
     "data": {
      "text/html": [
       "<div>\n",
       "<style scoped>\n",
       "    .dataframe tbody tr th:only-of-type {\n",
       "        vertical-align: middle;\n",
       "    }\n",
       "\n",
       "    .dataframe tbody tr th {\n",
       "        vertical-align: top;\n",
       "    }\n",
       "\n",
       "    .dataframe thead th {\n",
       "        text-align: right;\n",
       "    }\n",
       "</style>\n",
       "<table border=\"1\" class=\"dataframe\">\n",
       "  <thead>\n",
       "    <tr style=\"text-align: right;\">\n",
       "      <th></th>\n",
       "      <th>GISAID ID</th>\n",
       "      <th>name</th>\n",
       "      <th>country</th>\n",
       "      <th>travel history</th>\n",
       "      <th>sample date</th>\n",
       "      <th>epiweek</th>\n",
       "      <th>lineage</th>\n",
       "      <th>representative</th>\n",
       "    </tr>\n",
       "  </thead>\n",
       "  <tbody>\n",
       "    <tr>\n",
       "      <th>0</th>\n",
       "      <td>EPI_ISL_420793</td>\n",
       "      <td>hCoV-19/USA/NY_2929/2020</td>\n",
       "      <td>USA</td>\n",
       "      <td>NaN</td>\n",
       "      <td>2020-03-02</td>\n",
       "      <td>10.0</td>\n",
       "      <td>B.1</td>\n",
       "      <td>1</td>\n",
       "    </tr>\n",
       "    <tr>\n",
       "      <th>1</th>\n",
       "      <td>EPI_ISL_417142</td>\n",
       "      <td>hCoV-19/USA/WA-S89/2020</td>\n",
       "      <td>USA</td>\n",
       "      <td>NaN</td>\n",
       "      <td>2020-02-29</td>\n",
       "      <td>9.0</td>\n",
       "      <td>A.1</td>\n",
       "      <td>1</td>\n",
       "    </tr>\n",
       "    <tr>\n",
       "      <th>2</th>\n",
       "      <td>EPI_ISL_420792</td>\n",
       "      <td>hCoV-19/USA/NH_0008/2020</td>\n",
       "      <td>USA</td>\n",
       "      <td>NaN</td>\n",
       "      <td>2020-03-02</td>\n",
       "      <td>10.0</td>\n",
       "      <td>B.1</td>\n",
       "      <td>1</td>\n",
       "    </tr>\n",
       "    <tr>\n",
       "      <th>3</th>\n",
       "      <td>EPI_ISL_420795</td>\n",
       "      <td>hCoV-19/USA/RI_0556/2020</td>\n",
       "      <td>USA</td>\n",
       "      <td>NaN</td>\n",
       "      <td>2020-03-01</td>\n",
       "      <td>10.0</td>\n",
       "      <td>B.1.5</td>\n",
       "      <td>1</td>\n",
       "    </tr>\n",
       "    <tr>\n",
       "      <th>4</th>\n",
       "      <td>EPI_ISL_417140</td>\n",
       "      <td>hCoV-19/USA/WA-S87/2020</td>\n",
       "      <td>USA</td>\n",
       "      <td>NaN</td>\n",
       "      <td>2020-03-01</td>\n",
       "      <td>10.0</td>\n",
       "      <td>A.1</td>\n",
       "      <td>1</td>\n",
       "    </tr>\n",
       "    <tr>\n",
       "      <th>...</th>\n",
       "      <td>...</td>\n",
       "      <td>...</td>\n",
       "      <td>...</td>\n",
       "      <td>...</td>\n",
       "      <td>...</td>\n",
       "      <td>...</td>\n",
       "      <td>...</td>\n",
       "      <td>...</td>\n",
       "    </tr>\n",
       "    <tr>\n",
       "      <th>27758</th>\n",
       "      <td>NaN</td>\n",
       "      <td>hCoV-19/Scotland/CVR04/2020</td>\n",
       "      <td>UK</td>\n",
       "      <td>NaN</td>\n",
       "      <td>2020-03-04</td>\n",
       "      <td>10.0</td>\n",
       "      <td>B</td>\n",
       "      <td>0</td>\n",
       "    </tr>\n",
       "    <tr>\n",
       "      <th>27759</th>\n",
       "      <td>NaN</td>\n",
       "      <td>hCoV-19/Scotland/CVR05/2020</td>\n",
       "      <td>UK</td>\n",
       "      <td>NaN</td>\n",
       "      <td>2020-03-04</td>\n",
       "      <td>10.0</td>\n",
       "      <td>B.1</td>\n",
       "      <td>0</td>\n",
       "    </tr>\n",
       "    <tr>\n",
       "      <th>27760</th>\n",
       "      <td>NaN</td>\n",
       "      <td>hCoV-19/Scotland/CVR03/2020</td>\n",
       "      <td>UK</td>\n",
       "      <td>NaN</td>\n",
       "      <td>2020-03-01</td>\n",
       "      <td>10.0</td>\n",
       "      <td>B.1</td>\n",
       "      <td>0</td>\n",
       "    </tr>\n",
       "    <tr>\n",
       "      <th>27761</th>\n",
       "      <td>NaN</td>\n",
       "      <td>hCoV-19/Scotland/CVR02/2020</td>\n",
       "      <td>UK</td>\n",
       "      <td>NaN</td>\n",
       "      <td>2020-03-02</td>\n",
       "      <td>10.0</td>\n",
       "      <td>B</td>\n",
       "      <td>0</td>\n",
       "    </tr>\n",
       "    <tr>\n",
       "      <th>27762</th>\n",
       "      <td>NaN</td>\n",
       "      <td>hCoV-19/Scotland/CVR01/2020</td>\n",
       "      <td>UK</td>\n",
       "      <td>NaN</td>\n",
       "      <td>2020-02-28</td>\n",
       "      <td>9.0</td>\n",
       "      <td>B.1.1</td>\n",
       "      <td>0</td>\n",
       "    </tr>\n",
       "  </tbody>\n",
       "</table>\n",
       "<p>27763 rows × 8 columns</p>\n",
       "</div>"
      ],
      "text/plain": [
       "            GISAID ID                         name country travel history  \\\n",
       "0      EPI_ISL_420793     hCoV-19/USA/NY_2929/2020     USA            NaN   \n",
       "1      EPI_ISL_417142      hCoV-19/USA/WA-S89/2020     USA            NaN   \n",
       "2      EPI_ISL_420792     hCoV-19/USA/NH_0008/2020     USA            NaN   \n",
       "3      EPI_ISL_420795     hCoV-19/USA/RI_0556/2020     USA            NaN   \n",
       "4      EPI_ISL_417140      hCoV-19/USA/WA-S87/2020     USA            NaN   \n",
       "...               ...                          ...     ...            ...   \n",
       "27758             NaN  hCoV-19/Scotland/CVR04/2020      UK            NaN   \n",
       "27759             NaN  hCoV-19/Scotland/CVR05/2020      UK            NaN   \n",
       "27760             NaN  hCoV-19/Scotland/CVR03/2020      UK            NaN   \n",
       "27761             NaN  hCoV-19/Scotland/CVR02/2020      UK            NaN   \n",
       "27762             NaN  hCoV-19/Scotland/CVR01/2020      UK            NaN   \n",
       "\n",
       "      sample date  epiweek lineage  representative  \n",
       "0      2020-03-02     10.0     B.1               1  \n",
       "1      2020-02-29      9.0     A.1               1  \n",
       "2      2020-03-02     10.0     B.1               1  \n",
       "3      2020-03-01     10.0   B.1.5               1  \n",
       "4      2020-03-01     10.0     A.1               1  \n",
       "...           ...      ...     ...             ...  \n",
       "27758  2020-03-04     10.0       B               0  \n",
       "27759  2020-03-04     10.0     B.1               0  \n",
       "27760  2020-03-01     10.0     B.1               0  \n",
       "27761  2020-03-02     10.0       B               0  \n",
       "27762  2020-02-28      9.0   B.1.1               0  \n",
       "\n",
       "[27763 rows x 8 columns]"
      ]
     },
     "execution_count": 8,
     "metadata": {},
     "output_type": "execute_result"
    }
   ],
   "source": [
    "# Add 'hCoV-19/' to start of each name\n",
    "lineage_df['name'] = 'hCoV-19/' + lineage_df['name']\n",
    "lineage_df"
   ]
  },
  {
   "cell_type": "code",
   "execution_count": 9,
   "metadata": {
    "ExecuteTime": {
     "end_time": "2020-05-26T08:11:57.335680Z",
     "start_time": "2020-05-26T08:11:57.327104Z"
    },
    "scrolled": true
   },
   "outputs": [],
   "source": [
    "# Function for extracting fasta entry names, \n",
    "# and GISAID IDs and taxon names from each entry name\n",
    "\n",
    "def extract_ids_and_names(fasta_file):\n",
    "    '''\n",
    "    Parameters\n",
    "    ----------\n",
    "    fasta_file: pathlib.Path\n",
    "    '''\n",
    "    \n",
    "    fp = fasta_file.open('r')\n",
    "    \n",
    "    # Store output as a list of tuples,\n",
    "    # (name, id, sample_date, sequence)\n",
    "    rows = []\n",
    "    \n",
    "    cur_seq = ''\n",
    "    cur_entry = ''\n",
    "    \n",
    "    while True:\n",
    "        line = fp.readline()\n",
    "        \n",
    "        # Beginning of a new entry, or EOF = end of current entry\n",
    "        if not line or line[0] == '>':\n",
    "            \n",
    "            if cur_entry:\n",
    "                # GISAID sequences are outputted in this format:\n",
    "                # name | ID | sample_date\n",
    "                # where name always starts with \"hCov-19\"\n",
    "                # The lineage dataframe leaves this out, but we should keep it\n",
    "                # so we'll add that onto the lineage dataframe later\n",
    "                chunks = cur_entry.split('|')\n",
    "                name = chunks[0]\n",
    "                gisaid_id = chunks[1]\n",
    "                sample_date = chunks[2]\n",
    "\n",
    "                # Modify entries here...\n",
    "\n",
    "                rows.append((name, gisaid_id, sample_date, cur_seq))\n",
    "                \n",
    "            \n",
    "            # If it's the end, then break out\n",
    "            if not line:\n",
    "                break\n",
    "                \n",
    "            # Reset sequence and name\n",
    "            cur_seq = ''\n",
    "            # Extract the name (up to the first whitespace)\n",
    "            # [1:] excludes the first '>'\n",
    "            # .split() breaks up the line into chunks separated by whitespace\n",
    "            # [0] gets the first chunk\n",
    "            # cur_entry = line[1:].split()[0]\n",
    "            # Nevermind, the fasta entries sometimes have spaces.....\n",
    "            # Just rstrip to remove the newline, that should work good enough\n",
    "            cur_entry = line[1:].rstrip()\n",
    "            \n",
    "        # Otherwise add sequence to the current entry\n",
    "        elif cur_entry:\n",
    "            cur_seq += re.sub(r'\\s+', '', line).strip()\n",
    "        \n",
    "    \n",
    "#     for line in fp:\n",
    "#         # If it's not an entry, then skip\n",
    "#         if line[0] != '>':\n",
    "#             continue\n",
    "        \n",
    "#         # Extract the name (up to the first whitespace)\n",
    "#         # [1:] excludes the first '>'\n",
    "#         # .split() breaks up the line into chunks separated by whitespace\n",
    "#         # [0] gets the first chunk\n",
    "#         line = line[1:].split()[0]\n",
    "        \n",
    "#         # GISAID sequences are outputted in this format:\n",
    "#         # name | ID | sample_date\n",
    "#         # where name always starts with \"hCov-19\"\n",
    "#         # The lineage dataframe leaves this out, but we should keep it\n",
    "#         # so we'll add that onto the lineage dataframe later\n",
    "#         chunks = line.split('|')\n",
    "#         name = chunks[0]\n",
    "#         gisaid_id = chunks[1]\n",
    "#         sample_date = chunks[2]\n",
    "        \n",
    "#         # Modify entries here...\n",
    "        \n",
    "#         rows.append((name, gisaid_id, sample_date))\n",
    "            \n",
    "    fp.close()\n",
    "    \n",
    "    return rows\n",
    "    \n",
    "# Test function\n",
    "# extract_ids_and_names(fasta_files[0])"
   ]
  },
  {
   "cell_type": "code",
   "execution_count": 10,
   "metadata": {
    "ExecuteTime": {
     "end_time": "2020-05-26T08:12:37.444836Z",
     "start_time": "2020-05-26T08:11:58.025039Z"
    }
   },
   "outputs": [
    {
     "name": "stdout",
     "output_type": "stream",
     "text": [
      "gisaid_0101-0131.fasta\n",
      "gisaid_0201-0229.fasta\n",
      "gisaid_0301-0331.fasta\n",
      "gisaid_0401-0407.fasta\n",
      "gisaid_0408-0414.fasta\n",
      "gisaid_0415-0421.fasta\n",
      "gisaid_0422-0430.fasta\n",
      "gisaid_0501-0507.fasta\n",
      "gisaid_0508-0514.fasta\n",
      "gisaid_0515-0519.fasta\n"
     ]
    },
    {
     "data": {
      "text/html": [
       "<div>\n",
       "<style scoped>\n",
       "    .dataframe tbody tr th:only-of-type {\n",
       "        vertical-align: middle;\n",
       "    }\n",
       "\n",
       "    .dataframe tbody tr th {\n",
       "        vertical-align: top;\n",
       "    }\n",
       "\n",
       "    .dataframe thead th {\n",
       "        text-align: right;\n",
       "    }\n",
       "</style>\n",
       "<table border=\"1\" class=\"dataframe\">\n",
       "  <thead>\n",
       "    <tr style=\"text-align: right;\">\n",
       "      <th></th>\n",
       "      <th>name</th>\n",
       "      <th>gisaid_id</th>\n",
       "      <th>sample_date</th>\n",
       "      <th>sequence</th>\n",
       "      <th>lineage</th>\n",
       "    </tr>\n",
       "  </thead>\n",
       "  <tbody>\n",
       "    <tr>\n",
       "      <th>0</th>\n",
       "      <td>hCoV-19/USA/LA-SR0295/2020</td>\n",
       "      <td>EPI_ISL_445150</td>\n",
       "      <td>2020-04-08</td>\n",
       "      <td>NNNNNNNATTTATACCTTCCCAGGTAACAAACCAACCAACTTTCGA...</td>\n",
       "      <td>NaN</td>\n",
       "    </tr>\n",
       "    <tr>\n",
       "      <th>1</th>\n",
       "      <td>hCoV-19/USA/LA-SR0296/2020</td>\n",
       "      <td>EPI_ISL_445151</td>\n",
       "      <td>2020-04-07</td>\n",
       "      <td>NNTAAAGGTTTATACCTTCCCAGGTAACAAACCAACCAACTTTCGA...</td>\n",
       "      <td>NaN</td>\n",
       "    </tr>\n",
       "    <tr>\n",
       "      <th>2</th>\n",
       "      <td>hCoV-19/USA/LA-SR0297/2020</td>\n",
       "      <td>EPI_ISL_445152</td>\n",
       "      <td>2020-04-08</td>\n",
       "      <td>ATTAAAGGTTTATACCTTCCCAGGTAACAAACCAACCAACTTTCGA...</td>\n",
       "      <td>NaN</td>\n",
       "    </tr>\n",
       "    <tr>\n",
       "      <th>3</th>\n",
       "      <td>hCoV-19/USA/LA-SR0298/2020</td>\n",
       "      <td>EPI_ISL_445153</td>\n",
       "      <td>2020-04-08</td>\n",
       "      <td>NNNNAAGGTTTATACCTTCCCAGGTAACAAACCAACCAACTTTCGA...</td>\n",
       "      <td>NaN</td>\n",
       "    </tr>\n",
       "    <tr>\n",
       "      <th>4</th>\n",
       "      <td>hCoV-19/USA/LA-SR0299/2020</td>\n",
       "      <td>EPI_ISL_445154</td>\n",
       "      <td>2020-04-07</td>\n",
       "      <td>NNNNNNNNNNNNNNNNNNNNNNNNNNNNNNNNNNNNNNNCTTTCGA...</td>\n",
       "      <td>NaN</td>\n",
       "    </tr>\n",
       "    <tr>\n",
       "      <th>...</th>\n",
       "      <td>...</td>\n",
       "      <td>...</td>\n",
       "      <td>...</td>\n",
       "      <td>...</td>\n",
       "      <td>...</td>\n",
       "    </tr>\n",
       "    <tr>\n",
       "      <th>4251</th>\n",
       "      <td>hCoV-19/USA/WA-S694/2020</td>\n",
       "      <td>EPI_ISL_449864</td>\n",
       "      <td>2020-04-08</td>\n",
       "      <td>NNNNNNNNTTTATACCTTCCCAGGTAACAAACCAACCAACTTTCGA...</td>\n",
       "      <td>NaN</td>\n",
       "    </tr>\n",
       "    <tr>\n",
       "      <th>4252</th>\n",
       "      <td>hCoV-19/USA/WA-S695/2020</td>\n",
       "      <td>EPI_ISL_449865</td>\n",
       "      <td>2020-04-08</td>\n",
       "      <td>NNTAAAGGTTTATACCTTCCCAGGTAACAAACCAACCAACTTTCGA...</td>\n",
       "      <td>NaN</td>\n",
       "    </tr>\n",
       "    <tr>\n",
       "      <th>4253</th>\n",
       "      <td>hCoV-19/USA/WA-S696/2020</td>\n",
       "      <td>EPI_ISL_449866</td>\n",
       "      <td>2020-04-09</td>\n",
       "      <td>NNNNNNNNNNNNNACCTTCCCAGGTAACAAACCAACCAACTTTCGA...</td>\n",
       "      <td>NaN</td>\n",
       "    </tr>\n",
       "    <tr>\n",
       "      <th>4254</th>\n",
       "      <td>hCoV-19/USA/WA-S697/2020</td>\n",
       "      <td>EPI_ISL_449867</td>\n",
       "      <td>2020-04-08</td>\n",
       "      <td>NNTAAAGGTTTATACCTTCCCAGGTAACAAACCAACCAACTTTCGA...</td>\n",
       "      <td>NaN</td>\n",
       "    </tr>\n",
       "    <tr>\n",
       "      <th>4255</th>\n",
       "      <td>hCoV-19/USA/WA-S698/2020</td>\n",
       "      <td>EPI_ISL_449868</td>\n",
       "      <td>2020-04-08</td>\n",
       "      <td>NNNNNNNNNNNNNACCTTCCCAGGTAACAAACCAACCAACTTTCGA...</td>\n",
       "      <td>NaN</td>\n",
       "    </tr>\n",
       "  </tbody>\n",
       "</table>\n",
       "<p>4256 rows × 5 columns</p>\n",
       "</div>"
      ],
      "text/plain": [
       "                            name       gisaid_id sample_date  \\\n",
       "0     hCoV-19/USA/LA-SR0295/2020  EPI_ISL_445150  2020-04-08   \n",
       "1     hCoV-19/USA/LA-SR0296/2020  EPI_ISL_445151  2020-04-07   \n",
       "2     hCoV-19/USA/LA-SR0297/2020  EPI_ISL_445152  2020-04-08   \n",
       "3     hCoV-19/USA/LA-SR0298/2020  EPI_ISL_445153  2020-04-08   \n",
       "4     hCoV-19/USA/LA-SR0299/2020  EPI_ISL_445154  2020-04-07   \n",
       "...                          ...             ...         ...   \n",
       "4251    hCoV-19/USA/WA-S694/2020  EPI_ISL_449864  2020-04-08   \n",
       "4252    hCoV-19/USA/WA-S695/2020  EPI_ISL_449865  2020-04-08   \n",
       "4253    hCoV-19/USA/WA-S696/2020  EPI_ISL_449866  2020-04-09   \n",
       "4254    hCoV-19/USA/WA-S697/2020  EPI_ISL_449867  2020-04-08   \n",
       "4255    hCoV-19/USA/WA-S698/2020  EPI_ISL_449868  2020-04-08   \n",
       "\n",
       "                                               sequence lineage  \n",
       "0     NNNNNNNATTTATACCTTCCCAGGTAACAAACCAACCAACTTTCGA...     NaN  \n",
       "1     NNTAAAGGTTTATACCTTCCCAGGTAACAAACCAACCAACTTTCGA...     NaN  \n",
       "2     ATTAAAGGTTTATACCTTCCCAGGTAACAAACCAACCAACTTTCGA...     NaN  \n",
       "3     NNNNAAGGTTTATACCTTCCCAGGTAACAAACCAACCAACTTTCGA...     NaN  \n",
       "4     NNNNNNNNNNNNNNNNNNNNNNNNNNNNNNNNNNNNNNNCTTTCGA...     NaN  \n",
       "...                                                 ...     ...  \n",
       "4251  NNNNNNNNTTTATACCTTCCCAGGTAACAAACCAACCAACTTTCGA...     NaN  \n",
       "4252  NNTAAAGGTTTATACCTTCCCAGGTAACAAACCAACCAACTTTCGA...     NaN  \n",
       "4253  NNNNNNNNNNNNNACCTTCCCAGGTAACAAACCAACCAACTTTCGA...     NaN  \n",
       "4254  NNTAAAGGTTTATACCTTCCCAGGTAACAAACCAACCAACTTTCGA...     NaN  \n",
       "4255  NNNNNNNNNNNNNACCTTCCCAGGTAACAAACCAACCAACTTTCGA...     NaN  \n",
       "\n",
       "[4256 rows x 5 columns]"
      ]
     },
     "execution_count": 10,
     "metadata": {},
     "output_type": "execute_result"
    }
   ],
   "source": [
    "for i, ff in enumerate(fasta_files):\n",
    "    print(ff.name)\n",
    "    # Testing\n",
    "    #if i > 0:\n",
    "    #    break\n",
    "        \n",
    "    # Get names and IDs into a dataframe\n",
    "    ff_df = pd.DataFrame.from_records(extract_ids_and_names(ff), columns=['name', 'gisaid_id', 'sample_date', 'sequence'])\n",
    "\n",
    "    has_gisaid_id = ~pd.isnull(lineage_df['GISAID ID'])\n",
    "    \n",
    "    # Join lineage assignments from lineage_df\n",
    "    # ff_df['lineage'] = ff_df['name'].map(lineage_df['lineage'])\n",
    "    ff_df['lineage'] = (\n",
    "        # Join on taxon names\n",
    "        ff_df['name'].map(\n",
    "            pd.Series(\n",
    "                lineage_df['lineage'].values, \n",
    "                index=lineage_df['name'].values\n",
    "            )\n",
    "        )\n",
    "        # Try to fill in missing values by joining on GISAID ID\n",
    "        .combine_first(\n",
    "            ff_df['gisaid_id'].map(\n",
    "                pd.Series(\n",
    "                    lineage_df['lineage'][has_gisaid_id].values, \n",
    "                    index=lineage_df['GISAID ID'][has_gisaid_id].values\n",
    "                )\n",
    "            )\n",
    "        )\n",
    "    )\n",
    "    \n",
    "    # There are gonna be NaNs for the lineage, since the pangolin metadata\n",
    "    # doesn't have all of them. We'll fill them in later\n",
    "    ff_df.to_csv(data_path / 'lineage_meta' / (ff.stem + '_lineage.csv'), index=False, columns=['name', 'gisaid_id', 'sample_date', 'lineage'])\n",
    "    \n",
    "    # Save taxons without assignments, so we can process them later in pangolin\n",
    "    to_assign_path = data_path / 'seqs_to_assign' / (ff.stem + '_to_assign.fasta')\n",
    "    fp_out = to_assign_path.open('w')\n",
    "    \n",
    "    for j, row in ff_df.loc[pd.isnull(ff_df['lineage']), :].iterrows():\n",
    "        fp_out.write('>' + row['name'] + '|' + row['gisaid_id'] + '|' + row['sample_date'] + '\\n')\n",
    "        fp_out.write(row['sequence'] + '\\n')\n",
    "        \n",
    "    fp_out.close()\n",
    "ff_df"
   ]
  },
  {
   "cell_type": "markdown",
   "metadata": {},
   "source": [
    "# Rename SAM entries\n",
    "\n",
    "I messed up and did not extract the full entry name from the raw fastas downloaded from GISAID, since I assumed that there would be no spaces in the names (there are, for \"South Africa\" and \"South Korea\", and definitely more that I don't know about). So we have to go into the sam files and change query names.\n",
    "\n",
    "I'll also have to change the names in the processed fasta files and adjust the code that generates those files, just to be consistent with future processing"
   ]
  },
  {
   "cell_type": "code",
   "execution_count": 11,
   "metadata": {
    "ExecuteTime": {
     "end_time": "2020-05-26T08:12:37.653359Z",
     "start_time": "2020-05-26T08:12:37.609287Z"
    }
   },
   "outputs": [],
   "source": [
    "import pysam"
   ]
  },
  {
   "cell_type": "code",
   "execution_count": 68,
   "metadata": {
    "ExecuteTime": {
     "end_time": "2020-05-25T18:59:40.685815Z",
     "start_time": "2020-05-25T18:59:40.679960Z"
    }
   },
   "outputs": [
    {
     "data": {
      "text/plain": [
       "[PosixPath('/Volumes/GoogleDrive/My Drive/covid_data/sam/unfiltered/gisaid_0101-0131.sam'),\n",
       " PosixPath('/Volumes/GoogleDrive/My Drive/covid_data/sam/unfiltered/gisaid_0201-0229.sam'),\n",
       " PosixPath('/Volumes/GoogleDrive/My Drive/covid_data/sam/unfiltered/gisaid_0301-0331.sam'),\n",
       " PosixPath('/Volumes/GoogleDrive/My Drive/covid_data/sam/unfiltered/gisaid_0401-0407.sam'),\n",
       " PosixPath('/Volumes/GoogleDrive/My Drive/covid_data/sam/unfiltered/gisaid_0408-0414.sam'),\n",
       " PosixPath('/Volumes/GoogleDrive/My Drive/covid_data/sam/unfiltered/gisaid_0415-0421.sam'),\n",
       " PosixPath('/Volumes/GoogleDrive/My Drive/covid_data/sam/unfiltered/gisaid_0422-0430.sam'),\n",
       " PosixPath('/Volumes/GoogleDrive/My Drive/covid_data/sam/unfiltered/gisaid_0501-0507.sam'),\n",
       " PosixPath('/Volumes/GoogleDrive/My Drive/covid_data/sam/unfiltered/gisaid_0508-0514.sam'),\n",
       " PosixPath('/Volumes/GoogleDrive/My Drive/covid_data/sam/unfiltered/gisaid_0515-0519.sam')]"
      ]
     },
     "execution_count": 68,
     "metadata": {},
     "output_type": "execute_result"
    }
   ],
   "source": [
    "raw_sam_files = sorted((data_path / 'sam' / 'unfiltered').glob('*.sam'))\n",
    "raw_sam_files"
   ]
  },
  {
   "cell_type": "code",
   "execution_count": 69,
   "metadata": {
    "ExecuteTime": {
     "end_time": "2020-05-25T18:59:58.929608Z",
     "start_time": "2020-05-25T18:59:58.915783Z"
    }
   },
   "outputs": [
    {
     "data": {
      "text/plain": [
       "[PosixPath('/Volumes/GoogleDrive/My Drive/covid_data/fasta_raw/gisaid_0101-0131.fasta'),\n",
       " PosixPath('/Volumes/GoogleDrive/My Drive/covid_data/fasta_raw/gisaid_0201-0229.fasta'),\n",
       " PosixPath('/Volumes/GoogleDrive/My Drive/covid_data/fasta_raw/gisaid_0301-0331.fasta'),\n",
       " PosixPath('/Volumes/GoogleDrive/My Drive/covid_data/fasta_raw/gisaid_0401-0407.fasta'),\n",
       " PosixPath('/Volumes/GoogleDrive/My Drive/covid_data/fasta_raw/gisaid_0408-0414.fasta'),\n",
       " PosixPath('/Volumes/GoogleDrive/My Drive/covid_data/fasta_raw/gisaid_0415-0421.fasta'),\n",
       " PosixPath('/Volumes/GoogleDrive/My Drive/covid_data/fasta_raw/gisaid_0422-0430.fasta'),\n",
       " PosixPath('/Volumes/GoogleDrive/My Drive/covid_data/fasta_raw/gisaid_0501-0507.fasta'),\n",
       " PosixPath('/Volumes/GoogleDrive/My Drive/covid_data/fasta_raw/gisaid_0508-0514.fasta'),\n",
       " PosixPath('/Volumes/GoogleDrive/My Drive/covid_data/fasta_raw/gisaid_0515-0519.fasta')]"
      ]
     },
     "execution_count": 69,
     "metadata": {},
     "output_type": "execute_result"
    }
   ],
   "source": [
    "raw_fasta_files = sorted((data_path / 'fasta_raw').glob('*.fasta'))\n",
    "raw_fasta_files"
   ]
  },
  {
   "cell_type": "code",
   "execution_count": 76,
   "metadata": {
    "ExecuteTime": {
     "end_time": "2020-05-25T19:43:04.939149Z",
     "start_time": "2020-05-25T19:42:29.455932Z"
    }
   },
   "outputs": [
    {
     "name": "stdout",
     "output_type": "stream",
     "text": [
      "gisaid_0101-0131.fasta\n",
      "gisaid_0201-0229.fasta\n",
      "gisaid_0301-0331.fasta\n",
      "gisaid_0401-0407.fasta\n",
      "gisaid_0408-0414.fasta\n",
      "gisaid_0415-0421.fasta\n",
      "gisaid_0422-0430.fasta\n",
      "gisaid_0501-0507.fasta\n",
      "gisaid_0508-0514.fasta\n",
      "gisaid_0515-0519.fasta\n"
     ]
    }
   ],
   "source": [
    "for i in range(len(raw_fasta_files)):\n",
    "    print(raw_fasta_files[i].name)\n",
    "    # Testing\n",
    "    #if i > 1:\n",
    "    #    break\n",
    "    \n",
    "    # Get entry names from the raw fasta file\n",
    "    entry_names = []\n",
    "    ff = raw_fasta_files[i]\n",
    "    with ff.open('r') as fp:\n",
    "        for line in fp:\n",
    "            if line[0] == '>':\n",
    "                entry_names.append(line[1:].rstrip())\n",
    "                \n",
    "    # Change query names in the sam file, read-by-read\n",
    "    samfile_path = raw_sam_files[i]\n",
    "    samfile = pysam.AlignmentFile(str(samfile_path), 'r')\n",
    "    new_samfile_path = data_path / 'sam' / 'unfiltered_renamed' / samfile_path.name\n",
    "    new_samfile = pysam.AlignmentFile(str(new_samfile_path), 'w', template=samfile)\n",
    "    \n",
    "    k = 0\n",
    "    for read in samfile.fetch(until_eof=True):\n",
    "        # print(read.query_name, entry_names[k])\n",
    "        read.query_name = entry_names[k]\n",
    "        new_samfile.write(read)\n",
    "        k += 1\n",
    "        \n",
    "    samfile.close()\n",
    "    new_samfile.close()\n"
   ]
  },
  {
   "cell_type": "markdown",
   "metadata": {},
   "source": [
    "# Run sequence preprocessing again\n",
    "\n",
    "..."
   ]
  },
  {
   "cell_type": "markdown",
   "metadata": {},
   "source": [
    "# Merge missing sequences in"
   ]
  },
  {
   "cell_type": "code",
   "execution_count": 3,
   "metadata": {
    "ExecuteTime": {
     "end_time": "2020-05-26T08:10:18.029500Z",
     "start_time": "2020-05-26T08:10:18.014298Z"
    }
   },
   "outputs": [
    {
     "data": {
      "text/plain": [
       "[PosixPath('/Volumes/GoogleDrive/My Drive/covid_data/lineage_meta/gisaid_0101-0131_lineage.csv'),\n",
       " PosixPath('/Volumes/GoogleDrive/My Drive/covid_data/lineage_meta/gisaid_0201-0229_lineage.csv'),\n",
       " PosixPath('/Volumes/GoogleDrive/My Drive/covid_data/lineage_meta/gisaid_0301-0331_lineage.csv'),\n",
       " PosixPath('/Volumes/GoogleDrive/My Drive/covid_data/lineage_meta/gisaid_0401-0407_lineage.csv'),\n",
       " PosixPath('/Volumes/GoogleDrive/My Drive/covid_data/lineage_meta/gisaid_0408-0414_lineage.csv'),\n",
       " PosixPath('/Volumes/GoogleDrive/My Drive/covid_data/lineage_meta/gisaid_0415-0421_lineage.csv'),\n",
       " PosixPath('/Volumes/GoogleDrive/My Drive/covid_data/lineage_meta/gisaid_0422-0430_lineage.csv'),\n",
       " PosixPath('/Volumes/GoogleDrive/My Drive/covid_data/lineage_meta/gisaid_0501-0507_lineage.csv'),\n",
       " PosixPath('/Volumes/GoogleDrive/My Drive/covid_data/lineage_meta/gisaid_0508-0514_lineage.csv'),\n",
       " PosixPath('/Volumes/GoogleDrive/My Drive/covid_data/lineage_meta/gisaid_0515-0519_lineage.csv')]"
      ]
     },
     "execution_count": 3,
     "metadata": {},
     "output_type": "execute_result"
    }
   ],
   "source": [
    "lineage_files = sorted((data_path / 'lineage_meta').glob('*.csv'))\n",
    "lineage_files"
   ]
  },
  {
   "cell_type": "code",
   "execution_count": 4,
   "metadata": {
    "ExecuteTime": {
     "end_time": "2020-05-26T08:10:18.793080Z",
     "start_time": "2020-05-26T08:10:18.785302Z"
    }
   },
   "outputs": [
    {
     "data": {
      "text/plain": [
       "[PosixPath('/Volumes/GoogleDrive/My Drive/covid_data/seqs_to_assign/lineage_report_0101-0131_to_assign.csv'),\n",
       " PosixPath('/Volumes/GoogleDrive/My Drive/covid_data/seqs_to_assign/lineage_report_0201-0229_to_assign.csv'),\n",
       " PosixPath('/Volumes/GoogleDrive/My Drive/covid_data/seqs_to_assign/lineage_report_0301-0331_to_assign.csv'),\n",
       " PosixPath('/Volumes/GoogleDrive/My Drive/covid_data/seqs_to_assign/lineage_report_0401-0407_to_assign.csv'),\n",
       " PosixPath('/Volumes/GoogleDrive/My Drive/covid_data/seqs_to_assign/lineage_report_0408-0414_to_assign.csv'),\n",
       " PosixPath('/Volumes/GoogleDrive/My Drive/covid_data/seqs_to_assign/lineage_report_0415-0421_to_assign.csv'),\n",
       " PosixPath('/Volumes/GoogleDrive/My Drive/covid_data/seqs_to_assign/lineage_report_0422-0430_to_assign.csv'),\n",
       " PosixPath('/Volumes/GoogleDrive/My Drive/covid_data/seqs_to_assign/lineage_report_0501-0507_to_assign.csv'),\n",
       " PosixPath('/Volumes/GoogleDrive/My Drive/covid_data/seqs_to_assign/lineage_report_0508-0514_to_assign.csv'),\n",
       " PosixPath('/Volumes/GoogleDrive/My Drive/covid_data/seqs_to_assign/lineage_report_0515-0519_to_assign.csv')]"
      ]
     },
     "execution_count": 4,
     "metadata": {},
     "output_type": "execute_result"
    }
   ],
   "source": [
    "missing_files = sorted((data_path / 'seqs_to_assign').glob('*.csv'))\n",
    "missing_files"
   ]
  },
  {
   "cell_type": "code",
   "execution_count": 12,
   "metadata": {
    "ExecuteTime": {
     "end_time": "2020-05-26T08:12:53.844656Z",
     "start_time": "2020-05-26T08:12:53.838114Z"
    }
   },
   "outputs": [
    {
     "data": {
      "text/plain": [
       "[PosixPath('/Volumes/GoogleDrive/My Drive/covid_data/seqs_to_assign/gisaid_0101-0131_to_assign.fasta'),\n",
       " PosixPath('/Volumes/GoogleDrive/My Drive/covid_data/seqs_to_assign/gisaid_0201-0229_to_assign.fasta'),\n",
       " PosixPath('/Volumes/GoogleDrive/My Drive/covid_data/seqs_to_assign/gisaid_0301-0331_to_assign.fasta'),\n",
       " PosixPath('/Volumes/GoogleDrive/My Drive/covid_data/seqs_to_assign/gisaid_0401-0407_to_assign.fasta'),\n",
       " PosixPath('/Volumes/GoogleDrive/My Drive/covid_data/seqs_to_assign/gisaid_0408-0414_to_assign.fasta'),\n",
       " PosixPath('/Volumes/GoogleDrive/My Drive/covid_data/seqs_to_assign/gisaid_0415-0421_to_assign.fasta'),\n",
       " PosixPath('/Volumes/GoogleDrive/My Drive/covid_data/seqs_to_assign/gisaid_0422-0430_to_assign.fasta'),\n",
       " PosixPath('/Volumes/GoogleDrive/My Drive/covid_data/seqs_to_assign/gisaid_0501-0507_to_assign.fasta'),\n",
       " PosixPath('/Volumes/GoogleDrive/My Drive/covid_data/seqs_to_assign/gisaid_0508-0514_to_assign.fasta'),\n",
       " PosixPath('/Volumes/GoogleDrive/My Drive/covid_data/seqs_to_assign/gisaid_0515-0519_to_assign.fasta')]"
      ]
     },
     "execution_count": 12,
     "metadata": {},
     "output_type": "execute_result"
    }
   ],
   "source": [
    "missing_fasta_files = sorted((data_path / 'seqs_to_assign').glob('*.fasta'))\n",
    "missing_fasta_files"
   ]
  },
  {
   "cell_type": "code",
   "execution_count": 22,
   "metadata": {
    "ExecuteTime": {
     "end_time": "2020-05-26T08:17:37.395746Z",
     "start_time": "2020-05-26T08:17:35.326968Z"
    }
   },
   "outputs": [
    {
     "name": "stdout",
     "output_type": "stream",
     "text": [
      "gisaid_0101-0131_lineage.csv\n",
      "gisaid_0201-0229_lineage.csv\n",
      "gisaid_0301-0331_lineage.csv\n",
      "gisaid_0401-0407_lineage.csv\n",
      "gisaid_0408-0414_lineage.csv\n",
      "gisaid_0415-0421_lineage.csv\n",
      "gisaid_0422-0430_lineage.csv\n",
      "gisaid_0501-0507_lineage.csv\n",
      "gisaid_0508-0514_lineage.csv\n",
      "gisaid_0515-0519_lineage.csv\n"
     ]
    }
   ],
   "source": [
    "for i in range(len(lineage_files)):\n",
    "    # Testing\n",
    "    #if i > 0:\n",
    "    #    break\n",
    "        \n",
    "    print(lineage_files[i].name)\n",
    "    \n",
    "    rows = extract_ids_and_names(missing_fasta_files[i])\n",
    "    gisaid_ids = [row[1] for row in rows]\n",
    "        \n",
    "    # Get matching files, load into memory\n",
    "    lf_df = pd.read_csv(lineage_files[i])\n",
    "    missing_df = pd.read_csv(missing_files[i])\n",
    "    \n",
    "    # Extract the GISAID ID from the fasta entry name\n",
    "    #missing_df['gisaid_id'] = missing_df['taxon'].str.split('|', expand=True)[1]\n",
    "    #missing_df = missing_df.set_index('gisaid_id')\n",
    "    \n",
    "    # Set the GISAID ID in missing_df to the ids from the fasta file\n",
    "    missing_df['gisaid_id'] = gisaid_ids\n",
    "    missing_df = missing_df.set_index('gisaid_id')\n",
    "    \n",
    "    # print(missing_df)\n",
    "    \n",
    "    # Patch missing values\n",
    "    lf_df['lineage'] = lf_df['lineage'].combine_first(lf_df['gisaid_id'].map(missing_df['lineage']))\n",
    "    \n",
    "    # print(pd.isnull(lf_df['lineage']).sum())\n",
    "    \n",
    "    # Save to disk\n",
    "    lf_df.to_csv(lineage_files[i], index=False)\n",
    "    "
   ]
  },
  {
   "cell_type": "code",
   "execution_count": null,
   "metadata": {},
   "outputs": [],
   "source": []
  }
 ],
 "metadata": {
  "kernelspec": {
   "display_name": "Python 3",
   "language": "python",
   "name": "python3"
  },
  "language_info": {
   "codemirror_mode": {
    "name": "ipython",
    "version": 3
   },
   "file_extension": ".py",
   "mimetype": "text/x-python",
   "name": "python",
   "nbconvert_exporter": "python",
   "pygments_lexer": "ipython3",
   "version": "3.6.10"
  },
  "toc": {
   "base_numbering": 1,
   "nav_menu": {},
   "number_sections": true,
   "sideBar": true,
   "skip_h1_title": false,
   "title_cell": "Table of Contents",
   "title_sidebar": "Contents",
   "toc_cell": false,
   "toc_position": {
    "height": "calc(100% - 180px)",
    "left": "10px",
    "top": "150px",
    "width": "341.484px"
   },
   "toc_section_display": true,
   "toc_window_display": true
  },
  "varInspector": {
   "cols": {
    "lenName": 16,
    "lenType": 16,
    "lenVar": 40
   },
   "kernels_config": {
    "python": {
     "delete_cmd_postfix": "",
     "delete_cmd_prefix": "del ",
     "library": "var_list.py",
     "varRefreshCmd": "print(var_dic_list())"
    },
    "r": {
     "delete_cmd_postfix": ") ",
     "delete_cmd_prefix": "rm(",
     "library": "var_list.r",
     "varRefreshCmd": "cat(var_dic_list()) "
    }
   },
   "types_to_exclude": [
    "module",
    "function",
    "builtin_function_or_method",
    "instance",
    "_Feature"
   ],
   "window_display": false
  }
 },
 "nbformat": 4,
 "nbformat_minor": 4
}
