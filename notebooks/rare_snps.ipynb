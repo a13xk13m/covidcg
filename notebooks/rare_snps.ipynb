{
 "cells": [
  {
   "cell_type": "code",
   "execution_count": 1,
   "metadata": {
    "ExecuteTime": {
     "end_time": "2020-06-11T22:11:05.633500Z",
     "start_time": "2020-06-11T22:11:05.133800Z"
    }
   },
   "outputs": [],
   "source": [
    "import numpy as np\n",
    "import pandas as pd\n",
    "\n",
    "from pathlib import Path"
   ]
  },
  {
   "cell_type": "code",
   "execution_count": 2,
   "metadata": {
    "ExecuteTime": {
     "end_time": "2020-06-11T22:11:05.658493Z",
     "start_time": "2020-06-11T22:11:05.654489Z"
    }
   },
   "outputs": [],
   "source": [
    "data_dir = Path('/Volumes/GoogleDrive/My Drive/covid_data')"
   ]
  },
  {
   "cell_type": "code",
   "execution_count": 3,
   "metadata": {
    "ExecuteTime": {
     "end_time": "2020-06-11T22:11:06.918009Z",
     "start_time": "2020-06-11T22:11:05.683554Z"
    }
   },
   "outputs": [
    {
     "data": {
      "text/html": [
       "<div>\n",
       "<style scoped>\n",
       "    .dataframe tbody tr th:only-of-type {\n",
       "        vertical-align: middle;\n",
       "    }\n",
       "\n",
       "    .dataframe tbody tr th {\n",
       "        vertical-align: top;\n",
       "    }\n",
       "\n",
       "    .dataframe thead th {\n",
       "        text-align: right;\n",
       "    }\n",
       "</style>\n",
       "<table border=\"1\" class=\"dataframe\">\n",
       "  <thead>\n",
       "    <tr style=\"text-align: right;\">\n",
       "      <th></th>\n",
       "      <th>taxon</th>\n",
       "      <th>gene</th>\n",
       "      <th>pos</th>\n",
       "      <th>ref</th>\n",
       "      <th>alt</th>\n",
       "    </tr>\n",
       "  </thead>\n",
       "  <tbody>\n",
       "    <tr>\n",
       "      <th>0</th>\n",
       "      <td>hCoV-19/Wuhan/IPBCAMS-WH-01/2019|EPI_ISL_40212...</td>\n",
       "      <td>ORF1a</td>\n",
       "      <td>2707</td>\n",
       "      <td>N</td>\n",
       "      <td>S</td>\n",
       "    </tr>\n",
       "    <tr>\n",
       "      <th>1</th>\n",
       "      <td>hCoV-19/Wuhan/IPBCAMS-WH-01/2019|EPI_ISL_40212...</td>\n",
       "      <td>ORF1a</td>\n",
       "      <td>2907</td>\n",
       "      <td>F</td>\n",
       "      <td>I</td>\n",
       "    </tr>\n",
       "    <tr>\n",
       "      <th>2</th>\n",
       "      <td>hCoV-19/Taiwan/2/2020|EPI_ISL_406031|2020-01-23</td>\n",
       "      <td>ORF1b</td>\n",
       "      <td>906</td>\n",
       "      <td>W</td>\n",
       "      <td>C</td>\n",
       "    </tr>\n",
       "    <tr>\n",
       "      <th>3</th>\n",
       "      <td>hCoV-19/Taiwan/2/2020|EPI_ISL_406031|2020-01-23</td>\n",
       "      <td>ORF3a</td>\n",
       "      <td>190</td>\n",
       "      <td>E</td>\n",
       "      <td>G</td>\n",
       "    </tr>\n",
       "    <tr>\n",
       "      <th>4</th>\n",
       "      <td>hCoV-19/Taiwan/2/2020|EPI_ISL_406031|2020-01-23</td>\n",
       "      <td>ORF3a</td>\n",
       "      <td>250</td>\n",
       "      <td>G</td>\n",
       "      <td>V</td>\n",
       "    </tr>\n",
       "    <tr>\n",
       "      <th>...</th>\n",
       "      <td>...</td>\n",
       "      <td>...</td>\n",
       "      <td>...</td>\n",
       "      <td>...</td>\n",
       "      <td>...</td>\n",
       "    </tr>\n",
       "    <tr>\n",
       "      <th>177672</th>\n",
       "      <td>hCoV-19/USA/WA-S1067/2020|EPI_ISL_463557|2020-...</td>\n",
       "      <td>ORF1b</td>\n",
       "      <td>313</td>\n",
       "      <td>P</td>\n",
       "      <td>L</td>\n",
       "    </tr>\n",
       "    <tr>\n",
       "      <th>177673</th>\n",
       "      <td>hCoV-19/USA/WA-S1067/2020|EPI_ISL_463557|2020-...</td>\n",
       "      <td>ORF1b</td>\n",
       "      <td>1115</td>\n",
       "      <td>V</td>\n",
       "      <td>I</td>\n",
       "    </tr>\n",
       "    <tr>\n",
       "      <th>177674</th>\n",
       "      <td>hCoV-19/USA/WA-S1067/2020|EPI_ISL_463557|2020-...</td>\n",
       "      <td>S</td>\n",
       "      <td>613</td>\n",
       "      <td>D</td>\n",
       "      <td>G</td>\n",
       "    </tr>\n",
       "    <tr>\n",
       "      <th>177675</th>\n",
       "      <td>hCoV-19/USA/WA-S1067/2020|EPI_ISL_463557|2020-...</td>\n",
       "      <td>N</td>\n",
       "      <td>202</td>\n",
       "      <td>R</td>\n",
       "      <td>K</td>\n",
       "    </tr>\n",
       "    <tr>\n",
       "      <th>177676</th>\n",
       "      <td>hCoV-19/USA/WA-S1067/2020|EPI_ISL_463557|2020-...</td>\n",
       "      <td>N</td>\n",
       "      <td>203</td>\n",
       "      <td>G</td>\n",
       "      <td>R</td>\n",
       "    </tr>\n",
       "  </tbody>\n",
       "</table>\n",
       "<p>177677 rows × 5 columns</p>\n",
       "</div>"
      ],
      "text/plain": [
       "                                                    taxon   gene   pos ref alt\n",
       "0       hCoV-19/Wuhan/IPBCAMS-WH-01/2019|EPI_ISL_40212...  ORF1a  2707   N   S\n",
       "1       hCoV-19/Wuhan/IPBCAMS-WH-01/2019|EPI_ISL_40212...  ORF1a  2907   F   I\n",
       "2         hCoV-19/Taiwan/2/2020|EPI_ISL_406031|2020-01-23  ORF1b   906   W   C\n",
       "3         hCoV-19/Taiwan/2/2020|EPI_ISL_406031|2020-01-23  ORF3a   190   E   G\n",
       "4         hCoV-19/Taiwan/2/2020|EPI_ISL_406031|2020-01-23  ORF3a   250   G   V\n",
       "...                                                   ...    ...   ...  ..  ..\n",
       "177672  hCoV-19/USA/WA-S1067/2020|EPI_ISL_463557|2020-...  ORF1b   313   P   L\n",
       "177673  hCoV-19/USA/WA-S1067/2020|EPI_ISL_463557|2020-...  ORF1b  1115   V   I\n",
       "177674  hCoV-19/USA/WA-S1067/2020|EPI_ISL_463557|2020-...      S   613   D   G\n",
       "177675  hCoV-19/USA/WA-S1067/2020|EPI_ISL_463557|2020-...      N   202   R   K\n",
       "177676  hCoV-19/USA/WA-S1067/2020|EPI_ISL_463557|2020-...      N   203   G   R\n",
       "\n",
       "[177677 rows x 5 columns]"
      ]
     },
     "execution_count": 3,
     "metadata": {},
     "output_type": "execute_result"
    }
   ],
   "source": [
    "aa_snp_df = pd.DataFrame()\n",
    "\n",
    "for f in sorted((data_dir / 'aa_snp').glob('*.csv')):\n",
    "    aa_snp_df = pd.concat([aa_snp_df, pd.read_csv(f)], ignore_index=True)\n",
    "\n",
    "aa_snp_df"
   ]
  },
  {
   "cell_type": "code",
   "execution_count": 16,
   "metadata": {
    "ExecuteTime": {
     "end_time": "2020-06-11T22:12:50.127327Z",
     "start_time": "2020-06-11T22:12:50.105182Z"
    }
   },
   "outputs": [
    {
     "data": {
      "text/html": [
       "<div>\n",
       "<style scoped>\n",
       "    .dataframe tbody tr th:only-of-type {\n",
       "        vertical-align: middle;\n",
       "    }\n",
       "\n",
       "    .dataframe tbody tr th {\n",
       "        vertical-align: top;\n",
       "    }\n",
       "\n",
       "    .dataframe thead th {\n",
       "        text-align: right;\n",
       "    }\n",
       "</style>\n",
       "<table border=\"1\" class=\"dataframe\">\n",
       "  <thead>\n",
       "    <tr style=\"text-align: right;\">\n",
       "      <th></th>\n",
       "      <th>taxon</th>\n",
       "      <th>gene</th>\n",
       "      <th>pos</th>\n",
       "      <th>ref</th>\n",
       "      <th>alt</th>\n",
       "    </tr>\n",
       "  </thead>\n",
       "  <tbody>\n",
       "    <tr>\n",
       "      <th>40007</th>\n",
       "      <td>hCoV-19/USA/WA-UW-4130/2020|EPI_ISL_427244|202...</td>\n",
       "      <td>S</td>\n",
       "      <td>500</td>\n",
       "      <td>N</td>\n",
       "      <td>L</td>\n",
       "    </tr>\n",
       "    <tr>\n",
       "      <th>154582</th>\n",
       "      <td>hCoV-19/USA/NY-NYUMC836/2020|EPI_ISL_456109|20...</td>\n",
       "      <td>S</td>\n",
       "      <td>500</td>\n",
       "      <td>N</td>\n",
       "      <td>Y</td>\n",
       "    </tr>\n",
       "    <tr>\n",
       "      <th>155411</th>\n",
       "      <td>hCoV-19/Costa Rica/CV-0007/2020|EPI_ISL_458236...</td>\n",
       "      <td>S</td>\n",
       "      <td>500</td>\n",
       "      <td>N</td>\n",
       "      <td>T</td>\n",
       "    </tr>\n",
       "  </tbody>\n",
       "</table>\n",
       "</div>"
      ],
      "text/plain": [
       "                                                    taxon gene  pos ref alt\n",
       "40007   hCoV-19/USA/WA-UW-4130/2020|EPI_ISL_427244|202...    S  500   N   L\n",
       "154582  hCoV-19/USA/NY-NYUMC836/2020|EPI_ISL_456109|20...    S  500   N   Y\n",
       "155411  hCoV-19/Costa Rica/CV-0007/2020|EPI_ISL_458236...    S  500   N   T"
      ]
     },
     "execution_count": 16,
     "metadata": {},
     "output_type": "execute_result"
    }
   ],
   "source": [
    "aa_snp_df.loc[(aa_snp_df['gene'] == 'S') & (aa_snp_df['pos'] == 500), :]"
   ]
  },
  {
   "cell_type": "code",
   "execution_count": null,
   "metadata": {},
   "outputs": [],
   "source": []
  }
 ],
 "metadata": {
  "kernelspec": {
   "display_name": "Python 3",
   "language": "python",
   "name": "python3"
  },
  "language_info": {
   "codemirror_mode": {
    "name": "ipython",
    "version": 3
   },
   "file_extension": ".py",
   "mimetype": "text/x-python",
   "name": "python",
   "nbconvert_exporter": "python",
   "pygments_lexer": "ipython3",
   "version": "3.6.10"
  },
  "toc": {
   "base_numbering": 1,
   "nav_menu": {},
   "number_sections": true,
   "sideBar": true,
   "skip_h1_title": false,
   "title_cell": "Table of Contents",
   "title_sidebar": "Contents",
   "toc_cell": false,
   "toc_position": {},
   "toc_section_display": true,
   "toc_window_display": true
  },
  "varInspector": {
   "cols": {
    "lenName": 16,
    "lenType": 16,
    "lenVar": 40
   },
   "kernels_config": {
    "python": {
     "delete_cmd_postfix": "",
     "delete_cmd_prefix": "del ",
     "library": "var_list.py",
     "varRefreshCmd": "print(var_dic_list())"
    },
    "r": {
     "delete_cmd_postfix": ") ",
     "delete_cmd_prefix": "rm(",
     "library": "var_list.r",
     "varRefreshCmd": "cat(var_dic_list()) "
    }
   },
   "types_to_exclude": [
    "module",
    "function",
    "builtin_function_or_method",
    "instance",
    "_Feature"
   ],
   "window_display": false
  }
 },
 "nbformat": 4,
 "nbformat_minor": 4
}
