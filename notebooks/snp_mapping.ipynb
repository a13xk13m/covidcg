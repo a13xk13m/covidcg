{
 "cells": [
  {
   "cell_type": "code",
   "execution_count": 1,
   "metadata": {
    "ExecuteTime": {
     "end_time": "2020-06-05T20:56:51.116906Z",
     "start_time": "2020-06-05T20:56:50.717233Z"
    }
   },
   "outputs": [],
   "source": [
    "import numpy as np\n",
    "import pandas as pd\n",
    "\n",
    "from pathlib import Path"
   ]
  },
  {
   "cell_type": "code",
   "execution_count": 3,
   "metadata": {
    "ExecuteTime": {
     "end_time": "2020-06-05T20:57:41.617549Z",
     "start_time": "2020-06-05T20:57:41.486941Z"
    }
   },
   "outputs": [
    {
     "name": "stdout",
     "output_type": "stream",
     "text": [
      "aa_snp_sig_counts.csv           process_pangolin_lineages.ipynb\r\n",
      "classify_clade_snps.ipynb       snp_mapping.ipynb\r\n",
      "clean_locations.ipynb           valid_aa_snps.csv\r\n",
      "explore_snps.ipynb              valid_dna_snps.csv\r\n",
      "explore_snps2.ipynb\r\n"
     ]
    }
   ],
   "source": [
    "!ls"
   ]
  },
  {
   "cell_type": "code",
   "execution_count": 4,
   "metadata": {
    "ExecuteTime": {
     "end_time": "2020-06-05T20:57:54.954735Z",
     "start_time": "2020-06-05T20:57:54.939853Z"
    }
   },
   "outputs": [
    {
     "data": {
      "text/plain": [
       "PosixPath('/Volumes/GoogleDrive/My Drive/covid_data')"
      ]
     },
     "execution_count": 4,
     "metadata": {},
     "output_type": "execute_result"
    }
   ],
   "source": [
    "data_dir = Path('../data').resolve()\n",
    "data_dir"
   ]
  },
  {
   "cell_type": "code",
   "execution_count": 68,
   "metadata": {
    "ExecuteTime": {
     "end_time": "2020-06-05T23:45:00.353833Z",
     "start_time": "2020-06-05T23:45:00.289352Z"
    }
   },
   "outputs": [
    {
     "data": {
      "text/html": [
       "<div>\n",
       "<style scoped>\n",
       "    .dataframe tbody tr th:only-of-type {\n",
       "        vertical-align: middle;\n",
       "    }\n",
       "\n",
       "    .dataframe tbody tr th {\n",
       "        vertical-align: top;\n",
       "    }\n",
       "\n",
       "    .dataframe thead th {\n",
       "        text-align: right;\n",
       "    }\n",
       "</style>\n",
       "<table border=\"1\" class=\"dataframe\">\n",
       "  <thead>\n",
       "    <tr style=\"text-align: right;\">\n",
       "      <th></th>\n",
       "      <th>gisaid_id</th>\n",
       "      <th>sample_date</th>\n",
       "      <th>lineage</th>\n",
       "      <th>location_id</th>\n",
       "      <th>dna_snp_str</th>\n",
       "      <th>dna_snp_sig</th>\n",
       "      <th>aa_snp_str</th>\n",
       "      <th>aa_snp_sig</th>\n",
       "    </tr>\n",
       "  </thead>\n",
       "  <tbody>\n",
       "    <tr>\n",
       "      <th>0</th>\n",
       "      <td>EPI_ISL_402119</td>\n",
       "      <td>2019-12-30</td>\n",
       "      <td>B</td>\n",
       "      <td>54</td>\n",
       "      <td>NaN</td>\n",
       "      <td>NaN</td>\n",
       "      <td>NaN</td>\n",
       "      <td>NaN</td>\n",
       "    </tr>\n",
       "    <tr>\n",
       "      <th>1</th>\n",
       "      <td>EPI_ISL_402120</td>\n",
       "      <td>2020-01-01</td>\n",
       "      <td>B</td>\n",
       "      <td>54</td>\n",
       "      <td>886;943</td>\n",
       "      <td>667;1154;204;618;1007;1009;1011</td>\n",
       "      <td>728</td>\n",
       "      <td>605;845;60;62</td>\n",
       "    </tr>\n",
       "    <tr>\n",
       "      <th>2</th>\n",
       "      <td>EPI_ISL_402121</td>\n",
       "      <td>2019-12-30</td>\n",
       "      <td>B</td>\n",
       "      <td>54</td>\n",
       "      <td>NaN</td>\n",
       "      <td>NaN</td>\n",
       "      <td>NaN</td>\n",
       "      <td>NaN</td>\n",
       "    </tr>\n",
       "    <tr>\n",
       "      <th>3</th>\n",
       "      <td>EPI_ISL_402123</td>\n",
       "      <td>2019-12-24</td>\n",
       "      <td>B</td>\n",
       "      <td>54</td>\n",
       "      <td>NaN</td>\n",
       "      <td>NaN</td>\n",
       "      <td>NaN</td>\n",
       "      <td>NaN</td>\n",
       "    </tr>\n",
       "    <tr>\n",
       "      <th>4</th>\n",
       "      <td>EPI_ISL_402124</td>\n",
       "      <td>2019-12-30</td>\n",
       "      <td>B</td>\n",
       "      <td>54</td>\n",
       "      <td>NaN</td>\n",
       "      <td>NaN</td>\n",
       "      <td>NaN</td>\n",
       "      <td>NaN</td>\n",
       "    </tr>\n",
       "    <tr>\n",
       "      <th>...</th>\n",
       "      <td>...</td>\n",
       "      <td>...</td>\n",
       "      <td>...</td>\n",
       "      <td>...</td>\n",
       "      <td>...</td>\n",
       "      <td>...</td>\n",
       "      <td>...</td>\n",
       "      <td>...</td>\n",
       "    </tr>\n",
       "    <tr>\n",
       "      <th>27385</th>\n",
       "      <td>EPI_ISL_449864</td>\n",
       "      <td>2020-04-08</td>\n",
       "      <td>A.1</td>\n",
       "      <td>882</td>\n",
       "      <td>1443;246;312;347;353;362;940</td>\n",
       "      <td>1443;246;312;347;353;362;940</td>\n",
       "      <td>625;515;518;765</td>\n",
       "      <td>625;515;518;765</td>\n",
       "    </tr>\n",
       "    <tr>\n",
       "      <th>27386</th>\n",
       "      <td>EPI_ISL_449865</td>\n",
       "      <td>2020-04-08</td>\n",
       "      <td>B.1.21</td>\n",
       "      <td>874</td>\n",
       "      <td>667;27;1154;204;618;741;912;1080</td>\n",
       "      <td>667;27;1154;204;618;741;1080</td>\n",
       "      <td>264;605;845;691</td>\n",
       "      <td>264;605;845;691</td>\n",
       "    </tr>\n",
       "    <tr>\n",
       "      <th>27387</th>\n",
       "      <td>EPI_ISL_449866</td>\n",
       "      <td>2020-04-09</td>\n",
       "      <td>A.1</td>\n",
       "      <td>882</td>\n",
       "      <td>1443;312;347;353;362;940</td>\n",
       "      <td>1443;246;312;347;353;362;940</td>\n",
       "      <td>515;518;765</td>\n",
       "      <td>515;518;765</td>\n",
       "    </tr>\n",
       "    <tr>\n",
       "      <th>27388</th>\n",
       "      <td>EPI_ISL_449867</td>\n",
       "      <td>2020-04-08</td>\n",
       "      <td>A.1</td>\n",
       "      <td>882</td>\n",
       "      <td>1443;312;347;353;356;362;430;940</td>\n",
       "      <td>1443;246;312;347;353;362;940</td>\n",
       "      <td>515;518;555;765</td>\n",
       "      <td>515;518;765</td>\n",
       "    </tr>\n",
       "    <tr>\n",
       "      <th>27389</th>\n",
       "      <td>EPI_ISL_449868</td>\n",
       "      <td>2020-04-08</td>\n",
       "      <td>A.1</td>\n",
       "      <td>882</td>\n",
       "      <td>187;1443;160;347;353;362;940</td>\n",
       "      <td>187;1443;160;347;353;362;940</td>\n",
       "      <td>360;515;518;765</td>\n",
       "      <td>360;515;518;765</td>\n",
       "    </tr>\n",
       "  </tbody>\n",
       "</table>\n",
       "<p>27390 rows × 8 columns</p>\n",
       "</div>"
      ],
      "text/plain": [
       "            gisaid_id sample_date lineage  location_id  \\\n",
       "0      EPI_ISL_402119  2019-12-30       B           54   \n",
       "1      EPI_ISL_402120  2020-01-01       B           54   \n",
       "2      EPI_ISL_402121  2019-12-30       B           54   \n",
       "3      EPI_ISL_402123  2019-12-24       B           54   \n",
       "4      EPI_ISL_402124  2019-12-30       B           54   \n",
       "...               ...         ...     ...          ...   \n",
       "27385  EPI_ISL_449864  2020-04-08     A.1          882   \n",
       "27386  EPI_ISL_449865  2020-04-08  B.1.21          874   \n",
       "27387  EPI_ISL_449866  2020-04-09     A.1          882   \n",
       "27388  EPI_ISL_449867  2020-04-08     A.1          882   \n",
       "27389  EPI_ISL_449868  2020-04-08     A.1          882   \n",
       "\n",
       "                            dna_snp_str                      dna_snp_sig  \\\n",
       "0                                   NaN                              NaN   \n",
       "1                               886;943  667;1154;204;618;1007;1009;1011   \n",
       "2                                   NaN                              NaN   \n",
       "3                                   NaN                              NaN   \n",
       "4                                   NaN                              NaN   \n",
       "...                                 ...                              ...   \n",
       "27385      1443;246;312;347;353;362;940     1443;246;312;347;353;362;940   \n",
       "27386  667;27;1154;204;618;741;912;1080     667;27;1154;204;618;741;1080   \n",
       "27387          1443;312;347;353;362;940     1443;246;312;347;353;362;940   \n",
       "27388  1443;312;347;353;356;362;430;940     1443;246;312;347;353;362;940   \n",
       "27389      187;1443;160;347;353;362;940     187;1443;160;347;353;362;940   \n",
       "\n",
       "            aa_snp_str       aa_snp_sig  \n",
       "0                  NaN              NaN  \n",
       "1                  728    605;845;60;62  \n",
       "2                  NaN              NaN  \n",
       "3                  NaN              NaN  \n",
       "4                  NaN              NaN  \n",
       "...                ...              ...  \n",
       "27385  625;515;518;765  625;515;518;765  \n",
       "27386  264;605;845;691  264;605;845;691  \n",
       "27387      515;518;765      515;518;765  \n",
       "27388  515;518;555;765      515;518;765  \n",
       "27389  360;515;518;765  360;515;518;765  \n",
       "\n",
       "[27390 rows x 8 columns]"
      ]
     },
     "execution_count": 68,
     "metadata": {},
     "output_type": "execute_result"
    }
   ],
   "source": [
    "case_data_df = pd.read_csv(data_dir / 'case_data.csv')\n",
    "case_data_df"
   ]
  },
  {
   "cell_type": "code",
   "execution_count": 69,
   "metadata": {
    "ExecuteTime": {
     "end_time": "2020-06-05T23:45:01.281149Z",
     "start_time": "2020-06-05T23:45:01.184798Z"
    }
   },
   "outputs": [
    {
     "data": {
      "text/html": [
       "<div>\n",
       "<style scoped>\n",
       "    .dataframe tbody tr th:only-of-type {\n",
       "        vertical-align: middle;\n",
       "    }\n",
       "\n",
       "    .dataframe tbody tr th {\n",
       "        vertical-align: top;\n",
       "    }\n",
       "\n",
       "    .dataframe thead th {\n",
       "        text-align: right;\n",
       "    }\n",
       "</style>\n",
       "<table border=\"1\" class=\"dataframe\">\n",
       "  <thead>\n",
       "    <tr style=\"text-align: right;\">\n",
       "      <th></th>\n",
       "      <th>taxon</th>\n",
       "      <th>snp_str</th>\n",
       "      <th>snp_sig</th>\n",
       "    </tr>\n",
       "  </thead>\n",
       "  <tbody>\n",
       "    <tr>\n",
       "      <th>0</th>\n",
       "      <td>hCoV-10/Canada/AB5/2020|EPI_ISL_435347|2020-04</td>\n",
       "      <td>ORF1b|314|P|L;S|614|D|G;ORF3a|14|T|I</td>\n",
       "      <td>ORF1b|314|P|L;S|614|D|G;ORF3a|14|T|I</td>\n",
       "    </tr>\n",
       "    <tr>\n",
       "      <th>1</th>\n",
       "      <td>hCoV-19//Estonia/ChVir4266/2020|EPI_ISL_457722...</td>\n",
       "      <td>ORF1b|314|P|L;S|614|D|G</td>\n",
       "      <td>ORF1b|314|P|L;S|614|D|G</td>\n",
       "    </tr>\n",
       "    <tr>\n",
       "      <th>2</th>\n",
       "      <td>hCoV-19/Algeria/G0638_2264/2020|EPI_ISL_418241...</td>\n",
       "      <td>ORF1a|265|T|I;ORF1b|314|P|L;S|614|D|G;ORF3a|57...</td>\n",
       "      <td>ORF1a|265|T|I;ORF1a|271|P|S;ORF1b|314|P|L;S|61...</td>\n",
       "    </tr>\n",
       "    <tr>\n",
       "      <th>3</th>\n",
       "      <td>hCoV-19/Algeria/G0640_2265/2020|EPI_ISL_418242...</td>\n",
       "      <td>ORF1a|265|T|I;ORF1b|314|P|L;S|614|D|G;ORF3a|57...</td>\n",
       "      <td>ORF1a|265|T|I;ORF1b|314|P|L;S|614|D|G;ORF3a|57...</td>\n",
       "    </tr>\n",
       "    <tr>\n",
       "      <th>4</th>\n",
       "      <td>hCoV-19/Algeria/G0860_2262/2020|EPI_ISL_420037...</td>\n",
       "      <td>ORF1a|265|T|I;ORF1a|1822|T|I;ORF1b|314|P|L;S|6...</td>\n",
       "      <td>ORF1a|265|T|I;ORF1b|314|P|L;S|614|D|G;ORF3a|57...</td>\n",
       "    </tr>\n",
       "    <tr>\n",
       "      <th>...</th>\n",
       "      <td>...</td>\n",
       "      <td>...</td>\n",
       "      <td>...</td>\n",
       "    </tr>\n",
       "    <tr>\n",
       "      <th>32985</th>\n",
       "      <td>hCoV-19/Zhejiang/OS6/2020|EPI_ISL_455690|2020-...</td>\n",
       "      <td>ORF1b|314|P|L;ORF1b|505|L|F;S|614|D|G</td>\n",
       "      <td>ORF1b|314|P|L;S|614|D|G;N|203|R|K;N|204|G|R</td>\n",
       "    </tr>\n",
       "    <tr>\n",
       "      <th>32986</th>\n",
       "      <td>hCov-19/Canada/AG1/2020|EPI_ISL_435344|2020-04</td>\n",
       "      <td>ORF1a|265|T|I;ORF1b|314|P|L;S|614|D|G;ORF3a|57...</td>\n",
       "      <td>ORF1a|265|T|I;ORF1b|314|P|L;S|614|D|G;ORF3a|57...</td>\n",
       "    </tr>\n",
       "    <tr>\n",
       "      <th>32987</th>\n",
       "      <td>hCov-19/Canada/AG6/2020|EPI_ISL_435343|2020-04</td>\n",
       "      <td>ORF1a|265|T|I;ORF1b|314|P|L;S|614|D|G;ORF3a|57...</td>\n",
       "      <td>ORF1a|265|T|I;ORF1b|314|P|L;S|614|D|G;ORF3a|57...</td>\n",
       "    </tr>\n",
       "    <tr>\n",
       "      <th>32988</th>\n",
       "      <td>hCov-19/Oman/RESP-20-4153/2020|EPI_ISL_457988|...</td>\n",
       "      <td>ORF1a|3334|G|S;ORF1b|314|P|L;S|614|D|G;N|203|R...</td>\n",
       "      <td>ORF1a|3334|G|S;ORF1b|314|P|L;S|614|D|G;N|203|R...</td>\n",
       "    </tr>\n",
       "    <tr>\n",
       "      <th>32989</th>\n",
       "      <td>hCov-19/USA/CT-Yale-072/2020|EPI_ISL_428400|20...</td>\n",
       "      <td>ORF1a|265|T|I;ORF1b|314|P|L;S|614|D|G;ORF3a|57...</td>\n",
       "      <td>ORF1a|265|T|I;ORF1b|314|P|L;S|614|D|G;ORF3a|57...</td>\n",
       "    </tr>\n",
       "  </tbody>\n",
       "</table>\n",
       "<p>32990 rows × 3 columns</p>\n",
       "</div>"
      ],
      "text/plain": [
       "                                                   taxon  \\\n",
       "0         hCoV-10/Canada/AB5/2020|EPI_ISL_435347|2020-04   \n",
       "1      hCoV-19//Estonia/ChVir4266/2020|EPI_ISL_457722...   \n",
       "2      hCoV-19/Algeria/G0638_2264/2020|EPI_ISL_418241...   \n",
       "3      hCoV-19/Algeria/G0640_2265/2020|EPI_ISL_418242...   \n",
       "4      hCoV-19/Algeria/G0860_2262/2020|EPI_ISL_420037...   \n",
       "...                                                  ...   \n",
       "32985  hCoV-19/Zhejiang/OS6/2020|EPI_ISL_455690|2020-...   \n",
       "32986     hCov-19/Canada/AG1/2020|EPI_ISL_435344|2020-04   \n",
       "32987     hCov-19/Canada/AG6/2020|EPI_ISL_435343|2020-04   \n",
       "32988  hCov-19/Oman/RESP-20-4153/2020|EPI_ISL_457988|...   \n",
       "32989  hCov-19/USA/CT-Yale-072/2020|EPI_ISL_428400|20...   \n",
       "\n",
       "                                                 snp_str  \\\n",
       "0                   ORF1b|314|P|L;S|614|D|G;ORF3a|14|T|I   \n",
       "1                                ORF1b|314|P|L;S|614|D|G   \n",
       "2      ORF1a|265|T|I;ORF1b|314|P|L;S|614|D|G;ORF3a|57...   \n",
       "3      ORF1a|265|T|I;ORF1b|314|P|L;S|614|D|G;ORF3a|57...   \n",
       "4      ORF1a|265|T|I;ORF1a|1822|T|I;ORF1b|314|P|L;S|6...   \n",
       "...                                                  ...   \n",
       "32985              ORF1b|314|P|L;ORF1b|505|L|F;S|614|D|G   \n",
       "32986  ORF1a|265|T|I;ORF1b|314|P|L;S|614|D|G;ORF3a|57...   \n",
       "32987  ORF1a|265|T|I;ORF1b|314|P|L;S|614|D|G;ORF3a|57...   \n",
       "32988  ORF1a|3334|G|S;ORF1b|314|P|L;S|614|D|G;N|203|R...   \n",
       "32989  ORF1a|265|T|I;ORF1b|314|P|L;S|614|D|G;ORF3a|57...   \n",
       "\n",
       "                                                 snp_sig  \n",
       "0                   ORF1b|314|P|L;S|614|D|G;ORF3a|14|T|I  \n",
       "1                                ORF1b|314|P|L;S|614|D|G  \n",
       "2      ORF1a|265|T|I;ORF1a|271|P|S;ORF1b|314|P|L;S|61...  \n",
       "3      ORF1a|265|T|I;ORF1b|314|P|L;S|614|D|G;ORF3a|57...  \n",
       "4      ORF1a|265|T|I;ORF1b|314|P|L;S|614|D|G;ORF3a|57...  \n",
       "...                                                  ...  \n",
       "32985        ORF1b|314|P|L;S|614|D|G;N|203|R|K;N|204|G|R  \n",
       "32986  ORF1a|265|T|I;ORF1b|314|P|L;S|614|D|G;ORF3a|57...  \n",
       "32987  ORF1a|265|T|I;ORF1b|314|P|L;S|614|D|G;ORF3a|57...  \n",
       "32988  ORF1a|3334|G|S;ORF1b|314|P|L;S|614|D|G;N|203|R...  \n",
       "32989  ORF1a|265|T|I;ORF1b|314|P|L;S|614|D|G;ORF3a|57...  \n",
       "\n",
       "[32990 rows x 3 columns]"
      ]
     },
     "execution_count": 69,
     "metadata": {},
     "output_type": "execute_result"
    }
   ],
   "source": [
    "aa_snp_group_df = pd.read_csv(data_dir / 'aa_snp_group.csv')\n",
    "aa_snp_group_df"
   ]
  },
  {
   "cell_type": "code",
   "execution_count": 78,
   "metadata": {
    "ExecuteTime": {
     "end_time": "2020-06-06T00:14:31.892611Z",
     "start_time": "2020-06-06T00:14:31.744374Z"
    }
   },
   "outputs": [
    {
     "data": {
      "text/html": [
       "<div>\n",
       "<style scoped>\n",
       "    .dataframe tbody tr th:only-of-type {\n",
       "        vertical-align: middle;\n",
       "    }\n",
       "\n",
       "    .dataframe tbody tr th {\n",
       "        vertical-align: top;\n",
       "    }\n",
       "\n",
       "    .dataframe thead th {\n",
       "        text-align: right;\n",
       "    }\n",
       "</style>\n",
       "<table border=\"1\" class=\"dataframe\">\n",
       "  <thead>\n",
       "    <tr style=\"text-align: right;\">\n",
       "      <th></th>\n",
       "      <th>taxon</th>\n",
       "      <th>snp_str</th>\n",
       "      <th>snp_sig</th>\n",
       "      <th>gisaid_id</th>\n",
       "    </tr>\n",
       "  </thead>\n",
       "  <tbody>\n",
       "    <tr>\n",
       "      <th>0</th>\n",
       "      <td>hCoV-10/Canada/AB5/2020|EPI_ISL_435347|2020-04</td>\n",
       "      <td>241|C|T;3037|C|T;14408|C|T;15324|C|T;23403|A|G...</td>\n",
       "      <td>241|C|T;3037|C|T;14408|C|T;15324|C|T;23403|A|G...</td>\n",
       "      <td>EPI_ISL_435347</td>\n",
       "    </tr>\n",
       "    <tr>\n",
       "      <th>1</th>\n",
       "      <td>hCoV-19//Estonia/ChVir4266/2020|EPI_ISL_457722...</td>\n",
       "      <td>241|C|T;3037|C|T;14408|C|T;23403|A|G</td>\n",
       "      <td>241|C|T;3037|C|T;14408|C|T;23403|A|G</td>\n",
       "      <td>EPI_ISL_457722</td>\n",
       "    </tr>\n",
       "    <tr>\n",
       "      <th>2</th>\n",
       "      <td>hCoV-19/Algeria/G0638_2264/2020|EPI_ISL_418241...</td>\n",
       "      <td>241|C|T;1059|C|T;3037|C|T;10582|C|T;14408|C|T;...</td>\n",
       "      <td>241|C|T;1059|C|T;3037|C|T;10582|C|T;14408|C|T;...</td>\n",
       "      <td>EPI_ISL_418241</td>\n",
       "    </tr>\n",
       "    <tr>\n",
       "      <th>3</th>\n",
       "      <td>hCoV-19/Algeria/G0640_2265/2020|EPI_ISL_418242...</td>\n",
       "      <td>241|C|T;1059|C|T;3037|C|T;10582|C|T;14408|C|T;...</td>\n",
       "      <td>241|C|T;1059|C|T;3037|C|T;10582|C|T;14408|C|T;...</td>\n",
       "      <td>EPI_ISL_418242</td>\n",
       "    </tr>\n",
       "    <tr>\n",
       "      <th>4</th>\n",
       "      <td>hCoV-19/Algeria/G0860_2262/2020|EPI_ISL_420037...</td>\n",
       "      <td>241|C|T;1059|C|T;3037|C|T;5730|C|T;10582|C|T;1...</td>\n",
       "      <td>241|C|T;1059|C|T;3037|C|T;10582|C|T;14408|C|T;...</td>\n",
       "      <td>EPI_ISL_420037</td>\n",
       "    </tr>\n",
       "    <tr>\n",
       "      <th>...</th>\n",
       "      <td>...</td>\n",
       "      <td>...</td>\n",
       "      <td>...</td>\n",
       "      <td>...</td>\n",
       "    </tr>\n",
       "    <tr>\n",
       "      <th>33131</th>\n",
       "      <td>hCoV-19/Zhejiang/WZ-01/2020|EPI_ISL_404227|202...</td>\n",
       "      <td>583|C|T</td>\n",
       "      <td>241|C|T;3037|C|T;14408|C|T;23403|A|G;28881|G|A...</td>\n",
       "      <td>EPI_ISL_404227</td>\n",
       "    </tr>\n",
       "    <tr>\n",
       "      <th>33132</th>\n",
       "      <td>hCov-19/Canada/AG1/2020|EPI_ISL_435344|2020-04</td>\n",
       "      <td>241|C|T;1059|C|T;1150|C|T;3037|C|T;14408|C|T;2...</td>\n",
       "      <td>241|C|T;1059|C|T;3037|C|T;14408|C|T;23403|A|G;...</td>\n",
       "      <td>EPI_ISL_435344</td>\n",
       "    </tr>\n",
       "    <tr>\n",
       "      <th>33133</th>\n",
       "      <td>hCov-19/Canada/AG6/2020|EPI_ISL_435343|2020-04</td>\n",
       "      <td>241|C|T;1059|C|T;3037|C|T;14408|C|T;23403|A|G;...</td>\n",
       "      <td>241|C|T;1059|C|T;3037|C|T;14408|C|T;23403|A|G;...</td>\n",
       "      <td>EPI_ISL_435343</td>\n",
       "    </tr>\n",
       "    <tr>\n",
       "      <th>33134</th>\n",
       "      <td>hCov-19/Oman/RESP-20-4153/2020|EPI_ISL_457988|...</td>\n",
       "      <td>241|C|T;3037|C|T;4246|C|T;10265|G|A;14408|C|T;...</td>\n",
       "      <td>241|C|T;3037|C|T;10265|G|A;14408|C|T;23403|A|G...</td>\n",
       "      <td>EPI_ISL_457988</td>\n",
       "    </tr>\n",
       "    <tr>\n",
       "      <th>33135</th>\n",
       "      <td>hCov-19/USA/CT-Yale-072/2020|EPI_ISL_428400|20...</td>\n",
       "      <td>241|C|T;1059|C|T;3037|C|T;14408|C|T;23403|A|G;...</td>\n",
       "      <td>241|C|T;1059|C|T;3037|C|T;14408|C|T;23403|A|G;...</td>\n",
       "      <td>EPI_ISL_428400</td>\n",
       "    </tr>\n",
       "  </tbody>\n",
       "</table>\n",
       "<p>33136 rows × 4 columns</p>\n",
       "</div>"
      ],
      "text/plain": [
       "                                                   taxon  \\\n",
       "0         hCoV-10/Canada/AB5/2020|EPI_ISL_435347|2020-04   \n",
       "1      hCoV-19//Estonia/ChVir4266/2020|EPI_ISL_457722...   \n",
       "2      hCoV-19/Algeria/G0638_2264/2020|EPI_ISL_418241...   \n",
       "3      hCoV-19/Algeria/G0640_2265/2020|EPI_ISL_418242...   \n",
       "4      hCoV-19/Algeria/G0860_2262/2020|EPI_ISL_420037...   \n",
       "...                                                  ...   \n",
       "33131  hCoV-19/Zhejiang/WZ-01/2020|EPI_ISL_404227|202...   \n",
       "33132     hCov-19/Canada/AG1/2020|EPI_ISL_435344|2020-04   \n",
       "33133     hCov-19/Canada/AG6/2020|EPI_ISL_435343|2020-04   \n",
       "33134  hCov-19/Oman/RESP-20-4153/2020|EPI_ISL_457988|...   \n",
       "33135  hCov-19/USA/CT-Yale-072/2020|EPI_ISL_428400|20...   \n",
       "\n",
       "                                                 snp_str  \\\n",
       "0      241|C|T;3037|C|T;14408|C|T;15324|C|T;23403|A|G...   \n",
       "1                   241|C|T;3037|C|T;14408|C|T;23403|A|G   \n",
       "2      241|C|T;1059|C|T;3037|C|T;10582|C|T;14408|C|T;...   \n",
       "3      241|C|T;1059|C|T;3037|C|T;10582|C|T;14408|C|T;...   \n",
       "4      241|C|T;1059|C|T;3037|C|T;5730|C|T;10582|C|T;1...   \n",
       "...                                                  ...   \n",
       "33131                                            583|C|T   \n",
       "33132  241|C|T;1059|C|T;1150|C|T;3037|C|T;14408|C|T;2...   \n",
       "33133  241|C|T;1059|C|T;3037|C|T;14408|C|T;23403|A|G;...   \n",
       "33134  241|C|T;3037|C|T;4246|C|T;10265|G|A;14408|C|T;...   \n",
       "33135  241|C|T;1059|C|T;3037|C|T;14408|C|T;23403|A|G;...   \n",
       "\n",
       "                                                 snp_sig       gisaid_id  \n",
       "0      241|C|T;3037|C|T;14408|C|T;15324|C|T;23403|A|G...  EPI_ISL_435347  \n",
       "1                   241|C|T;3037|C|T;14408|C|T;23403|A|G  EPI_ISL_457722  \n",
       "2      241|C|T;1059|C|T;3037|C|T;10582|C|T;14408|C|T;...  EPI_ISL_418241  \n",
       "3      241|C|T;1059|C|T;3037|C|T;10582|C|T;14408|C|T;...  EPI_ISL_418242  \n",
       "4      241|C|T;1059|C|T;3037|C|T;10582|C|T;14408|C|T;...  EPI_ISL_420037  \n",
       "...                                                  ...             ...  \n",
       "33131  241|C|T;3037|C|T;14408|C|T;23403|A|G;28881|G|A...  EPI_ISL_404227  \n",
       "33132  241|C|T;1059|C|T;3037|C|T;14408|C|T;23403|A|G;...  EPI_ISL_435344  \n",
       "33133  241|C|T;1059|C|T;3037|C|T;14408|C|T;23403|A|G;...  EPI_ISL_435343  \n",
       "33134  241|C|T;3037|C|T;10265|G|A;14408|C|T;23403|A|G...  EPI_ISL_457988  \n",
       "33135  241|C|T;1059|C|T;3037|C|T;14408|C|T;23403|A|G;...  EPI_ISL_428400  \n",
       "\n",
       "[33136 rows x 4 columns]"
      ]
     },
     "execution_count": 78,
     "metadata": {},
     "output_type": "execute_result"
    }
   ],
   "source": [
    "dna_snp_group_df = pd.read_csv(data_dir / 'dna_snp_group.csv')\n",
    "dna_snp_group_df['gisaid_id'] = dna_snp_group_df['taxon'].str.split('|').apply(lambda x: x[1])\n",
    "dna_snp_group_df"
   ]
  },
  {
   "cell_type": "code",
   "execution_count": 79,
   "metadata": {
    "ExecuteTime": {
     "end_time": "2020-06-06T00:14:35.227787Z",
     "start_time": "2020-06-06T00:14:35.215940Z"
    }
   },
   "outputs": [
    {
     "data": {
      "text/plain": [
       "241|C|T;3037|C|T;14408|C|T;15324|C|T;23403|A|G;25433|C|T                                              0\n",
       "241|C|T;3037|C|T;14408|C|T;23403|A|G                                                                  1\n",
       "241|C|T;1059|C|T;3037|C|T;10582|C|T;14408|C|T;23403|A|G;25563|G|T;26461|C|T;29353|C|T                 2\n",
       "241|C|T;1059|C|T;3037|C|T;10582|C|T;14408|C|T;23403|A|G;25563|G|T;29353|C|T                           3\n",
       "241|C|T;1059|C|T;3037|C|T;5730|C|T;10582|C|T;14408|C|T;23403|A|G;25563|G|T                            4\n",
       "                                                                                                   ... \n",
       "2485|C|T;8782|C|T;18060|C|T;28144|T|C                                                              8396\n",
       "241|C|T;3037|C|T;14408|C|T;19839|T|C;23403|A|G;28881|G|A;28882|G|A;28883|G|C;29871|A|G             8397\n",
       "583|C|T                                                                                            8398\n",
       "241|C|T;1059|C|T;1150|C|T;3037|C|T;14408|C|T;23403|A|G;25563|G|T;27964|C|T                         8399\n",
       "241|C|T;3037|C|T;4246|C|T;10265|G|A;14408|C|T;16293|C|T;23403|A|G;28881|G|A;28882|G|A;28883|G|C    8400\n",
       "Length: 8401, dtype: int64"
      ]
     },
     "execution_count": 79,
     "metadata": {},
     "output_type": "execute_result"
    }
   ],
   "source": [
    "# Get unique DNA SNP strings\n",
    "# and map to integers\n",
    "dna_snp_map = pd.Series(dna_snp_group_df['snp_str'].unique())\n",
    "# Flip index and values\n",
    "dna_snp_map = pd.Series(dna_snp_map.index.values, index=dna_snp_map.values)\n",
    "dna_snp_map"
   ]
  },
  {
   "cell_type": "code",
   "execution_count": 80,
   "metadata": {
    "ExecuteTime": {
     "end_time": "2020-06-06T00:14:35.607150Z",
     "start_time": "2020-06-06T00:14:35.592439Z"
    }
   },
   "outputs": [
    {
     "data": {
      "text/plain": [
       "0"
      ]
     },
     "execution_count": 80,
     "metadata": {},
     "output_type": "execute_result"
    }
   ],
   "source": [
    "# Map IDs back to dna_snp_group_df\n",
    "dna_snp_group_df['snp_str'].map(dna_snp_map)\n",
    "pd.isnull(dna_snp_group_df['snp_str'].map(dna_snp_map)).sum()\n",
    "pd.isnull(dna_snp_group_df['snp_sig'].map(dna_snp_map)).sum()"
   ]
  },
  {
   "cell_type": "code",
   "execution_count": 81,
   "metadata": {
    "ExecuteTime": {
     "end_time": "2020-06-06T00:14:36.240674Z",
     "start_time": "2020-06-06T00:14:35.961320Z"
    }
   },
   "outputs": [
    {
     "name": "stdout",
     "output_type": "stream",
     "text": [
      "1497\n"
     ]
    },
    {
     "data": {
      "text/plain": [
       "array(['10015|C|T', '10078|C|T', '10097|G|A', ..., '9979|C|T', '9996|C|T',\n",
       "       '9|T|A'], dtype='<U9')"
      ]
     },
     "execution_count": 81,
     "metadata": {},
     "output_type": "execute_result"
    }
   ],
   "source": [
    "a = np.unique(np.concatenate(dna_snp_group_df['snp_str'].str.split(';').values).ravel())\n",
    "print(len(a))\n",
    "a"
   ]
  },
  {
   "cell_type": "code",
   "execution_count": 82,
   "metadata": {
    "ExecuteTime": {
     "end_time": "2020-06-06T00:14:36.580448Z",
     "start_time": "2020-06-06T00:14:36.407754Z"
    }
   },
   "outputs": [
    {
     "data": {
      "text/plain": [
       "10015|C|T       0\n",
       "10078|C|T       1\n",
       "10097|G|A       2\n",
       "10116|C|T       3\n",
       "10138|C|T       4\n",
       "             ... \n",
       "9967|C|T     1492\n",
       "9977|C|A     1493\n",
       "9979|C|T     1494\n",
       "9996|C|T     1495\n",
       "9|T|A        1496\n",
       "Length: 1497, dtype: int64"
      ]
     },
     "execution_count": 82,
     "metadata": {},
     "output_type": "execute_result"
    }
   ],
   "source": [
    "dna_snp_map = pd.Series(\n",
    "    np.unique(\n",
    "        np.concatenate(dna_snp_group_df['snp_str'].str.split(';').values).ravel()\n",
    "    )\n",
    ")\n",
    "# Flip index and values\n",
    "dna_snp_map = pd.Series(dna_snp_map.index.values, index=dna_snp_map.values)\n",
    "dna_snp_map"
   ]
  },
  {
   "cell_type": "code",
   "execution_count": 83,
   "metadata": {
    "ExecuteTime": {
     "end_time": "2020-06-06T00:14:41.709360Z",
     "start_time": "2020-06-06T00:14:37.085193Z"
    }
   },
   "outputs": [
    {
     "data": {
      "text/html": [
       "<div>\n",
       "<style scoped>\n",
       "    .dataframe tbody tr th:only-of-type {\n",
       "        vertical-align: middle;\n",
       "    }\n",
       "\n",
       "    .dataframe tbody tr th {\n",
       "        vertical-align: top;\n",
       "    }\n",
       "\n",
       "    .dataframe thead th {\n",
       "        text-align: right;\n",
       "    }\n",
       "</style>\n",
       "<table border=\"1\" class=\"dataframe\">\n",
       "  <thead>\n",
       "    <tr style=\"text-align: right;\">\n",
       "      <th></th>\n",
       "      <th>taxon</th>\n",
       "      <th>snp_str</th>\n",
       "      <th>snp_sig</th>\n",
       "      <th>gisaid_id</th>\n",
       "      <th>snp_str_id</th>\n",
       "      <th>snp_sig_id</th>\n",
       "    </tr>\n",
       "  </thead>\n",
       "  <tbody>\n",
       "    <tr>\n",
       "      <th>0</th>\n",
       "      <td>hCoV-10/Canada/AB5/2020|EPI_ISL_435347|2020-04</td>\n",
       "      <td>241|C|T;3037|C|T;14408|C|T;15324|C|T;23403|A|G...</td>\n",
       "      <td>241|C|T;3037|C|T;14408|C|T;15324|C|T;23403|A|G...</td>\n",
       "      <td>EPI_ISL_435347</td>\n",
       "      <td>667;1154;204;240;618;722</td>\n",
       "      <td>667;1154;204;240;618;722</td>\n",
       "    </tr>\n",
       "    <tr>\n",
       "      <th>1</th>\n",
       "      <td>hCoV-19//Estonia/ChVir4266/2020|EPI_ISL_457722...</td>\n",
       "      <td>241|C|T;3037|C|T;14408|C|T;23403|A|G</td>\n",
       "      <td>241|C|T;3037|C|T;14408|C|T;23403|A|G</td>\n",
       "      <td>EPI_ISL_457722</td>\n",
       "      <td>667;1154;204;618</td>\n",
       "      <td>667;1154;204;618</td>\n",
       "    </tr>\n",
       "    <tr>\n",
       "      <th>2</th>\n",
       "      <td>hCoV-19/Algeria/G0638_2264/2020|EPI_ISL_418241...</td>\n",
       "      <td>241|C|T;1059|C|T;3037|C|T;10582|C|T;14408|C|T;...</td>\n",
       "      <td>241|C|T;1059|C|T;3037|C|T;10582|C|T;14408|C|T;...</td>\n",
       "      <td>EPI_ISL_418241</td>\n",
       "      <td>667;27;1154;26;204;618;741;823;1053</td>\n",
       "      <td>667;27;1154;26;204;618;741</td>\n",
       "    </tr>\n",
       "    <tr>\n",
       "      <th>3</th>\n",
       "      <td>hCoV-19/Algeria/G0640_2265/2020|EPI_ISL_418242...</td>\n",
       "      <td>241|C|T;1059|C|T;3037|C|T;10582|C|T;14408|C|T;...</td>\n",
       "      <td>241|C|T;1059|C|T;3037|C|T;10582|C|T;14408|C|T;...</td>\n",
       "      <td>EPI_ISL_418242</td>\n",
       "      <td>667;27;1154;26;204;618;741;1053</td>\n",
       "      <td>667;27;1154;26;204;618;741</td>\n",
       "    </tr>\n",
       "    <tr>\n",
       "      <th>4</th>\n",
       "      <td>hCoV-19/Algeria/G0860_2262/2020|EPI_ISL_420037...</td>\n",
       "      <td>241|C|T;1059|C|T;3037|C|T;5730|C|T;10582|C|T;1...</td>\n",
       "      <td>241|C|T;1059|C|T;3037|C|T;10582|C|T;14408|C|T;...</td>\n",
       "      <td>EPI_ISL_420037</td>\n",
       "      <td>667;27;1154;1299;26;204;618;741</td>\n",
       "      <td>667;27;1154;26;204;618;741</td>\n",
       "    </tr>\n",
       "    <tr>\n",
       "      <th>...</th>\n",
       "      <td>...</td>\n",
       "      <td>...</td>\n",
       "      <td>...</td>\n",
       "      <td>...</td>\n",
       "      <td>...</td>\n",
       "      <td>...</td>\n",
       "    </tr>\n",
       "    <tr>\n",
       "      <th>33131</th>\n",
       "      <td>hCoV-19/Zhejiang/WZ-01/2020|EPI_ISL_404227|202...</td>\n",
       "      <td>583|C|T</td>\n",
       "      <td>241|C|T;3037|C|T;14408|C|T;23403|A|G;28881|G|A...</td>\n",
       "      <td>EPI_ISL_404227</td>\n",
       "      <td>1304</td>\n",
       "      <td>667;1154;204;618;1007;1009;1011</td>\n",
       "    </tr>\n",
       "    <tr>\n",
       "      <th>33132</th>\n",
       "      <td>hCov-19/Canada/AG1/2020|EPI_ISL_435344|2020-04</td>\n",
       "      <td>241|C|T;1059|C|T;1150|C|T;3037|C|T;14408|C|T;2...</td>\n",
       "      <td>241|C|T;1059|C|T;3037|C|T;14408|C|T;23403|A|G;...</td>\n",
       "      <td>EPI_ISL_435344</td>\n",
       "      <td>667;27;69;1154;204;618;741;925</td>\n",
       "      <td>667;27;1154;204;618;741;925</td>\n",
       "    </tr>\n",
       "    <tr>\n",
       "      <th>33133</th>\n",
       "      <td>hCov-19/Canada/AG6/2020|EPI_ISL_435343|2020-04</td>\n",
       "      <td>241|C|T;1059|C|T;3037|C|T;14408|C|T;23403|A|G;...</td>\n",
       "      <td>241|C|T;1059|C|T;3037|C|T;14408|C|T;23403|A|G;...</td>\n",
       "      <td>EPI_ISL_435343</td>\n",
       "      <td>667;27;1154;204;618;741</td>\n",
       "      <td>667;27;1154;204;618;741</td>\n",
       "    </tr>\n",
       "    <tr>\n",
       "      <th>33134</th>\n",
       "      <td>hCov-19/Oman/RESP-20-4153/2020|EPI_ISL_457988|...</td>\n",
       "      <td>241|C|T;3037|C|T;4246|C|T;10265|G|A;14408|C|T;...</td>\n",
       "      <td>241|C|T;3037|C|T;10265|G|A;14408|C|T;23403|A|G...</td>\n",
       "      <td>EPI_ISL_457988</td>\n",
       "      <td>667;1154;1233;13;204;281;618;1007;1009;1011</td>\n",
       "      <td>667;1154;13;204;618;1007;1009;1011</td>\n",
       "    </tr>\n",
       "    <tr>\n",
       "      <th>33135</th>\n",
       "      <td>hCov-19/USA/CT-Yale-072/2020|EPI_ISL_428400|20...</td>\n",
       "      <td>241|C|T;1059|C|T;3037|C|T;14408|C|T;23403|A|G;...</td>\n",
       "      <td>241|C|T;1059|C|T;3037|C|T;14408|C|T;23403|A|G;...</td>\n",
       "      <td>EPI_ISL_428400</td>\n",
       "      <td>667;27;1154;204;618;662;741</td>\n",
       "      <td>667;27;1154;204;618;741</td>\n",
       "    </tr>\n",
       "  </tbody>\n",
       "</table>\n",
       "<p>33136 rows × 6 columns</p>\n",
       "</div>"
      ],
      "text/plain": [
       "                                                   taxon  \\\n",
       "0         hCoV-10/Canada/AB5/2020|EPI_ISL_435347|2020-04   \n",
       "1      hCoV-19//Estonia/ChVir4266/2020|EPI_ISL_457722...   \n",
       "2      hCoV-19/Algeria/G0638_2264/2020|EPI_ISL_418241...   \n",
       "3      hCoV-19/Algeria/G0640_2265/2020|EPI_ISL_418242...   \n",
       "4      hCoV-19/Algeria/G0860_2262/2020|EPI_ISL_420037...   \n",
       "...                                                  ...   \n",
       "33131  hCoV-19/Zhejiang/WZ-01/2020|EPI_ISL_404227|202...   \n",
       "33132     hCov-19/Canada/AG1/2020|EPI_ISL_435344|2020-04   \n",
       "33133     hCov-19/Canada/AG6/2020|EPI_ISL_435343|2020-04   \n",
       "33134  hCov-19/Oman/RESP-20-4153/2020|EPI_ISL_457988|...   \n",
       "33135  hCov-19/USA/CT-Yale-072/2020|EPI_ISL_428400|20...   \n",
       "\n",
       "                                                 snp_str  \\\n",
       "0      241|C|T;3037|C|T;14408|C|T;15324|C|T;23403|A|G...   \n",
       "1                   241|C|T;3037|C|T;14408|C|T;23403|A|G   \n",
       "2      241|C|T;1059|C|T;3037|C|T;10582|C|T;14408|C|T;...   \n",
       "3      241|C|T;1059|C|T;3037|C|T;10582|C|T;14408|C|T;...   \n",
       "4      241|C|T;1059|C|T;3037|C|T;5730|C|T;10582|C|T;1...   \n",
       "...                                                  ...   \n",
       "33131                                            583|C|T   \n",
       "33132  241|C|T;1059|C|T;1150|C|T;3037|C|T;14408|C|T;2...   \n",
       "33133  241|C|T;1059|C|T;3037|C|T;14408|C|T;23403|A|G;...   \n",
       "33134  241|C|T;3037|C|T;4246|C|T;10265|G|A;14408|C|T;...   \n",
       "33135  241|C|T;1059|C|T;3037|C|T;14408|C|T;23403|A|G;...   \n",
       "\n",
       "                                                 snp_sig       gisaid_id  \\\n",
       "0      241|C|T;3037|C|T;14408|C|T;15324|C|T;23403|A|G...  EPI_ISL_435347   \n",
       "1                   241|C|T;3037|C|T;14408|C|T;23403|A|G  EPI_ISL_457722   \n",
       "2      241|C|T;1059|C|T;3037|C|T;10582|C|T;14408|C|T;...  EPI_ISL_418241   \n",
       "3      241|C|T;1059|C|T;3037|C|T;10582|C|T;14408|C|T;...  EPI_ISL_418242   \n",
       "4      241|C|T;1059|C|T;3037|C|T;10582|C|T;14408|C|T;...  EPI_ISL_420037   \n",
       "...                                                  ...             ...   \n",
       "33131  241|C|T;3037|C|T;14408|C|T;23403|A|G;28881|G|A...  EPI_ISL_404227   \n",
       "33132  241|C|T;1059|C|T;3037|C|T;14408|C|T;23403|A|G;...  EPI_ISL_435344   \n",
       "33133  241|C|T;1059|C|T;3037|C|T;14408|C|T;23403|A|G;...  EPI_ISL_435343   \n",
       "33134  241|C|T;3037|C|T;10265|G|A;14408|C|T;23403|A|G...  EPI_ISL_457988   \n",
       "33135  241|C|T;1059|C|T;3037|C|T;14408|C|T;23403|A|G;...  EPI_ISL_428400   \n",
       "\n",
       "                                        snp_str_id  \\\n",
       "0                         667;1154;204;240;618;722   \n",
       "1                                 667;1154;204;618   \n",
       "2              667;27;1154;26;204;618;741;823;1053   \n",
       "3                  667;27;1154;26;204;618;741;1053   \n",
       "4                  667;27;1154;1299;26;204;618;741   \n",
       "...                                            ...   \n",
       "33131                                         1304   \n",
       "33132               667;27;69;1154;204;618;741;925   \n",
       "33133                      667;27;1154;204;618;741   \n",
       "33134  667;1154;1233;13;204;281;618;1007;1009;1011   \n",
       "33135                  667;27;1154;204;618;662;741   \n",
       "\n",
       "                               snp_sig_id  \n",
       "0                667;1154;204;240;618;722  \n",
       "1                        667;1154;204;618  \n",
       "2              667;27;1154;26;204;618;741  \n",
       "3              667;27;1154;26;204;618;741  \n",
       "4              667;27;1154;26;204;618;741  \n",
       "...                                   ...  \n",
       "33131     667;1154;204;618;1007;1009;1011  \n",
       "33132         667;27;1154;204;618;741;925  \n",
       "33133             667;27;1154;204;618;741  \n",
       "33134  667;1154;13;204;618;1007;1009;1011  \n",
       "33135             667;27;1154;204;618;741  \n",
       "\n",
       "[33136 rows x 6 columns]"
      ]
     },
     "execution_count": 83,
     "metadata": {},
     "output_type": "execute_result"
    }
   ],
   "source": [
    "dna_snp_group_df['snp_str_id'] = dna_snp_group_df['snp_str'].str.split(';').apply(\n",
    "    lambda x: ';'.join([str(dna_snp_map[a]) for a in x] if x else None\n",
    "))\n",
    "dna_snp_group_df['snp_sig_id'] = dna_snp_group_df['snp_sig'].str.split(';').apply(\n",
    "    lambda x: ';'.join([str(dna_snp_map[a]) for a in x] if x else None\n",
    "))\n",
    "dna_snp_group_df"
   ]
  },
  {
   "cell_type": "code",
   "execution_count": 86,
   "metadata": {
    "ExecuteTime": {
     "end_time": "2020-06-06T00:15:10.741967Z",
     "start_time": "2020-06-06T00:15:10.731125Z"
    }
   },
   "outputs": [
    {
     "data": {
      "text/html": [
       "<div>\n",
       "<style scoped>\n",
       "    .dataframe tbody tr th:only-of-type {\n",
       "        vertical-align: middle;\n",
       "    }\n",
       "\n",
       "    .dataframe tbody tr th {\n",
       "        vertical-align: top;\n",
       "    }\n",
       "\n",
       "    .dataframe thead th {\n",
       "        text-align: right;\n",
       "    }\n",
       "</style>\n",
       "<table border=\"1\" class=\"dataframe\">\n",
       "  <thead>\n",
       "    <tr style=\"text-align: right;\">\n",
       "      <th></th>\n",
       "      <th>taxon</th>\n",
       "      <th>snp_str</th>\n",
       "      <th>snp_sig</th>\n",
       "      <th>gisaid_id</th>\n",
       "      <th>snp_str_id</th>\n",
       "      <th>snp_sig_id</th>\n",
       "    </tr>\n",
       "  </thead>\n",
       "  <tbody>\n",
       "  </tbody>\n",
       "</table>\n",
       "</div>"
      ],
      "text/plain": [
       "Empty DataFrame\n",
       "Columns: [taxon, snp_str, snp_sig, gisaid_id, snp_str_id, snp_sig_id]\n",
       "Index: []"
      ]
     },
     "execution_count": 86,
     "metadata": {},
     "output_type": "execute_result"
    }
   ],
   "source": [
    "dna_snp_group_df.loc[dna_snp_group_df['gisaid_id'] == 'EPI_ISL_402121', :]"
   ]
  },
  {
   "cell_type": "code",
   "execution_count": 59,
   "metadata": {
    "ExecuteTime": {
     "end_time": "2020-06-05T21:22:58.580529Z",
     "start_time": "2020-06-05T21:22:58.574175Z"
    }
   },
   "outputs": [],
   "source": [
    "dna_snp_map.to_csv('dna_snp_map.csv', index_label='snp', header=['id'])"
   ]
  },
  {
   "cell_type": "code",
   "execution_count": 53,
   "metadata": {
    "ExecuteTime": {
     "end_time": "2020-06-05T21:22:20.995187Z",
     "start_time": "2020-06-05T21:22:20.865159Z"
    }
   },
   "outputs": [
    {
     "name": "stdout",
     "output_type": "stream",
     "text": [
      "aa_snp_sig_counts.csv           explore_snps2.ipynb\r\n",
      "classify_clade_snps.ipynb       process_pangolin_lineages.ipynb\r\n",
      "clean_locations.ipynb           snp_mapping.ipynb\r\n",
      "dna_snp_map.csv                 valid_aa_snps.csv\r\n",
      "explore_snps.ipynb              valid_dna_snps.csv\r\n"
     ]
    }
   ],
   "source": [
    "!ls"
   ]
  },
  {
   "cell_type": "code",
   "execution_count": 60,
   "metadata": {
    "ExecuteTime": {
     "end_time": "2020-06-05T21:22:59.915821Z",
     "start_time": "2020-06-05T21:22:59.790312Z"
    }
   },
   "outputs": [
    {
     "name": "stdout",
     "output_type": "stream",
     "text": [
      "snp,id\r\n",
      "10015|C|T,0\r\n",
      "10078|C|T,1\r\n",
      "10097|G|A,2\r\n",
      "10116|C|T,3\r\n"
     ]
    }
   ],
   "source": [
    "!head -n 5 dna_snp_map.csv"
   ]
  },
  {
   "cell_type": "code",
   "execution_count": 89,
   "metadata": {
    "ExecuteTime": {
     "end_time": "2020-06-06T00:40:37.452619Z",
     "start_time": "2020-06-06T00:40:37.444151Z"
    }
   },
   "outputs": [
    {
     "data": {
      "text/plain": [
       "0                                     1\n",
       "1                                     2\n",
       "2                                     3\n",
       "3    <function <lambda> at 0x1273448c8>\n",
       "4                                     4\n",
       "5    <function <lambda> at 0x1273448c8>\n",
       "dtype: object"
      ]
     },
     "execution_count": 89,
     "metadata": {},
     "output_type": "execute_result"
    }
   ],
   "source": [
    "pd.Series([1, 2, 3, np.nan, 4, np.nan]).fillna(lambda x: None)"
   ]
  }
 ],
 "metadata": {
  "kernelspec": {
   "display_name": "Python 3",
   "language": "python",
   "name": "python3"
  },
  "language_info": {
   "codemirror_mode": {
    "name": "ipython",
    "version": 3
   },
   "file_extension": ".py",
   "mimetype": "text/x-python",
   "name": "python",
   "nbconvert_exporter": "python",
   "pygments_lexer": "ipython3",
   "version": "3.6.10"
  },
  "toc": {
   "base_numbering": 1,
   "nav_menu": {},
   "number_sections": true,
   "sideBar": true,
   "skip_h1_title": false,
   "title_cell": "Table of Contents",
   "title_sidebar": "Contents",
   "toc_cell": false,
   "toc_position": {
    "height": "calc(100% - 180px)",
    "left": "10px",
    "top": "150px",
    "width": "314.444px"
   },
   "toc_section_display": true,
   "toc_window_display": true
  },
  "varInspector": {
   "cols": {
    "lenName": 16,
    "lenType": 16,
    "lenVar": 40
   },
   "kernels_config": {
    "python": {
     "delete_cmd_postfix": "",
     "delete_cmd_prefix": "del ",
     "library": "var_list.py",
     "varRefreshCmd": "print(var_dic_list())"
    },
    "r": {
     "delete_cmd_postfix": ") ",
     "delete_cmd_prefix": "rm(",
     "library": "var_list.r",
     "varRefreshCmd": "cat(var_dic_list()) "
    }
   },
   "types_to_exclude": [
    "module",
    "function",
    "builtin_function_or_method",
    "instance",
    "_Feature"
   ],
   "window_display": false
  }
 },
 "nbformat": 4,
 "nbformat_minor": 4
}
